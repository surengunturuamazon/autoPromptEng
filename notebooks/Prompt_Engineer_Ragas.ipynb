{
 "cells": [
  {
   "cell_type": "markdown",
   "metadata": {
    "colab_type": "text",
    "id": "view-in-github"
   },
   "source": [
    "<a href=\"https://colab.research.google.com/github/mshumer/gpt-prompt-engineer/blob/main/gpt_prompt_engineer.ipynb\" target=\"_parent\"><img src=\"https://colab.research.google.com/assets/colab-badge.svg\" alt=\"Open In Colab\"/></a>"
   ]
  },
  {
   "cell_type": "markdown",
   "metadata": {
    "id": "WljjH8K3s7kG"
   },
   "source": [
    "# Auto Prompt Engineering \n",
    "Original Notebook By Matt Shumer (https://twitter.com/mattshumer_)\n",
    "\n",
    "Original Github repo: https://github.com/mshumer/gpt-prompt-engineer\n",
    "\n",
    "In this notebook, we will simulate how to generate an optimal prompt/instruction for a given task. In this case, we will go over the Tealium dataset and generate optimal instructions for each question. This notebook is modified for the Tealium-AWS use case. "
   ]
  },
  {
   "cell_type": "markdown",
   "metadata": {},
   "source": [
    "## Installations"
   ]
  },
  {
   "cell_type": "code",
   "execution_count": 6,
   "metadata": {
    "tags": []
   },
   "outputs": [
    {
     "name": "stdout",
     "output_type": "stream",
     "text": [
      "\u001b[31mERROR: pip's dependency resolver does not currently take into account all the packages that are installed. This behaviour is the source of the following dependency conflicts.\r\n",
      "sparkmagic 0.21.0 requires pandas<2.0.0,>=0.17.1, but you have pandas 2.1.1 which is incompatible.\r\n",
      "sphinx 7.2.6 requires docutils<0.21,>=0.18.1, but you have docutils 0.16 which is incompatible.\u001b[0m\u001b[31m\r\n",
      "\u001b[0m"
     ]
    }
   ],
   "source": [
    "!pip install -r ../requirements.txt -qq"
   ]
  },
  {
   "cell_type": "markdown",
   "metadata": {},
   "source": [
    "## Import Libraries"
   ]
  },
  {
   "cell_type": "code",
   "execution_count": 1,
   "metadata": {},
   "outputs": [
    {
     "name": "stderr",
     "output_type": "stream",
     "text": [
      "/home/ec2-user/anaconda3/envs/python3/lib/python3.10/site-packages/pandas/core/computation/expressions.py:21: UserWarning: Pandas requires version '2.8.0' or newer of 'numexpr' (version '2.7.3' currently installed).\n",
      "  from pandas.core.computation.check import NUMEXPR_INSTALLED\n"
     ]
    }
   ],
   "source": [
    "from datasets import load_dataset, Dataset\n",
    "import pandas as pd\n",
    "from ast import literal_eval\n",
    "import sys\n",
    "from pathlib import Path"
   ]
  },
  {
   "cell_type": "code",
   "execution_count": 2,
   "metadata": {
    "tags": []
   },
   "outputs": [],
   "source": [
    "path_to_src_code = '/home/ec2-user/SageMaker/Auto_Prompt'\n",
    "sys.path.append(path_to_src_code)"
   ]
  },
  {
   "cell_type": "code",
   "execution_count": 3,
   "metadata": {},
   "outputs": [],
   "source": [
    "from src.utils.configs import initial_df_path, path_to_ragas_outputs\n",
    "from src.utils.functions import *\n",
    "from src.run_autoprompt import run_autoprompts"
   ]
  },
  {
   "cell_type": "markdown",
   "metadata": {},
   "source": [
    "## Import and Preprocess Dataset"
   ]
  },
  {
   "cell_type": "code",
   "execution_count": 4,
   "metadata": {},
   "outputs": [],
   "source": [
    "fiqa_eval = load_dataset(\"explodinggradients/fiqa\", \"ragas_eval\")\n",
    "data = fiqa_eval['baseline']"
   ]
  },
  {
   "cell_type": "code",
   "execution_count": 5,
   "metadata": {
    "scrolled": true
   },
   "outputs": [
    {
     "data": {
      "text/html": [
       "<div>\n",
       "<style scoped>\n",
       "    .dataframe tbody tr th:only-of-type {\n",
       "        vertical-align: middle;\n",
       "    }\n",
       "\n",
       "    .dataframe tbody tr th {\n",
       "        vertical-align: top;\n",
       "    }\n",
       "\n",
       "    .dataframe thead th {\n",
       "        text-align: right;\n",
       "    }\n",
       "</style>\n",
       "<table border=\"1\" class=\"dataframe\">\n",
       "  <thead>\n",
       "    <tr style=\"text-align: right;\">\n",
       "      <th></th>\n",
       "      <th>question</th>\n",
       "      <th>ground_truths</th>\n",
       "      <th>answer</th>\n",
       "      <th>contexts</th>\n",
       "    </tr>\n",
       "  </thead>\n",
       "  <tbody>\n",
       "    <tr>\n",
       "      <th>0</th>\n",
       "      <td>How to deposit a cheque issued to an associate...</td>\n",
       "      <td>[Have the check reissued to the proper payee.J...</td>\n",
       "      <td>\\nThe best way to deposit a cheque issued to a...</td>\n",
       "      <td>[Just have the associate sign the back and the...</td>\n",
       "    </tr>\n",
       "    <tr>\n",
       "      <th>1</th>\n",
       "      <td>Can I send a money order from USPS as a business?</td>\n",
       "      <td>[Sure you can.  You can fill in whatever you w...</td>\n",
       "      <td>\\nYes, you can send a money order from USPS as...</td>\n",
       "      <td>[Sure you can.  You can fill in whatever you w...</td>\n",
       "    </tr>\n",
       "    <tr>\n",
       "      <th>2</th>\n",
       "      <td>1 EIN doing business under multiple business n...</td>\n",
       "      <td>[You're confusing a lot of things here. Compan...</td>\n",
       "      <td>\\nYes, it is possible to have one EIN doing bu...</td>\n",
       "      <td>[You're confusing a lot of things here. Compan...</td>\n",
       "    </tr>\n",
       "    <tr>\n",
       "      <th>3</th>\n",
       "      <td>Applying for and receiving business credit</td>\n",
       "      <td>[\"I'm afraid the great myth of limited liabili...</td>\n",
       "      <td>\\nApplying for and receiving business credit c...</td>\n",
       "      <td>[Set up a meeting with the bank that handles y...</td>\n",
       "    </tr>\n",
       "    <tr>\n",
       "      <th>4</th>\n",
       "      <td>401k Transfer After Business Closure</td>\n",
       "      <td>[You should probably consult an attorney. Howe...</td>\n",
       "      <td>\\nIf your employer has closed and you need to ...</td>\n",
       "      <td>[The time horizon for your 401K/IRA is essenti...</td>\n",
       "    </tr>\n",
       "    <tr>\n",
       "      <th>5</th>\n",
       "      <td>What are the ins/outs of writing equipment pur...</td>\n",
       "      <td>[Most items used in business have to be deprec...</td>\n",
       "      <td>\\nWriting equipment purchases off as business ...</td>\n",
       "      <td>[You would report it as business income on Sch...</td>\n",
       "    </tr>\n",
       "    <tr>\n",
       "      <th>6</th>\n",
       "      <td>Can a entrepreneur hire a self-employed busine...</td>\n",
       "      <td>[Yes. I can by all means start my own company ...</td>\n",
       "      <td>\\nYes, an entrepreneur can hire a self-employe...</td>\n",
       "      <td>[Yes. I can by all means start my own company ...</td>\n",
       "    </tr>\n",
       "    <tr>\n",
       "      <th>7</th>\n",
       "      <td>Intentions of Deductible Amount for Small Busi...</td>\n",
       "      <td>[\"If your sole proprietorship losses exceed al...</td>\n",
       "      <td>\\nThe intention of deductible amounts for smal...</td>\n",
       "      <td>[\"Short answer, yes. But this is not done thro...</td>\n",
       "    </tr>\n",
       "    <tr>\n",
       "      <th>8</th>\n",
       "      <td>How can I deposit a check made out to my busin...</td>\n",
       "      <td>[You should have a separate business account. ...</td>\n",
       "      <td>\\nYou can deposit a check made out to your bus...</td>\n",
       "      <td>[\"I have checked with Bank of America, and the...</td>\n",
       "    </tr>\n",
       "    <tr>\n",
       "      <th>9</th>\n",
       "      <td>Filing personal with 1099s versus business s-c...</td>\n",
       "      <td>[Depends whom the 1099 was issued to. If it wa...</td>\n",
       "      <td>\\nFiling personal taxes with 1099s versus fili...</td>\n",
       "      <td>[Depends whom the 1099 was issued to. If it wa...</td>\n",
       "    </tr>\n",
       "    <tr>\n",
       "      <th>10</th>\n",
       "      <td>Using credit card points to pay for tax deduct...</td>\n",
       "      <td>[\"For simplicity, let's start by just consider...</td>\n",
       "      <td>\\nUsing credit card points to pay for tax dedu...</td>\n",
       "      <td>[\"For simplicity, let's start by just consider...</td>\n",
       "    </tr>\n",
       "    <tr>\n",
       "      <th>11</th>\n",
       "      <td>How can I make $250,000.00 from trading/invest...</td>\n",
       "      <td>[Deposit $3,500 each month in a brokerage acco...</td>\n",
       "      <td>\\nMaking $250,000.00 from trading/investing/bu...</td>\n",
       "      <td>[\"The answer to your question is Forex trading...</td>\n",
       "    </tr>\n",
       "    <tr>\n",
       "      <th>12</th>\n",
       "      <td>Investing/business with other people's money: ...</td>\n",
       "      <td>[\"Basically, you either borrow money, or get o...</td>\n",
       "      <td>\\nInvesting/business with other people's money...</td>\n",
       "      <td>[\"Basically, you either borrow money, or get o...</td>\n",
       "    </tr>\n",
       "    <tr>\n",
       "      <th>13</th>\n",
       "      <td>What approaches are there for pricing a small ...</td>\n",
       "      <td>[I don't have any experience in this, but this...</td>\n",
       "      <td>\\nThere are several approaches for pricing a s...</td>\n",
       "      <td>[I don't have any experience in this, but this...</td>\n",
       "    </tr>\n",
       "    <tr>\n",
       "      <th>14</th>\n",
       "      <td>How to account for money earned and spent prio...</td>\n",
       "      <td>[Funds earned and spent before opening a dedic...</td>\n",
       "      <td>\\nMoney earned and spent prior to establishing...</td>\n",
       "      <td>[Funds earned and spent before opening a dedic...</td>\n",
       "    </tr>\n",
       "    <tr>\n",
       "      <th>15</th>\n",
       "      <td>Do I need a new EIN since I am hiring employee...</td>\n",
       "      <td>[I called the IRS (click here for IRS contact ...</td>\n",
       "      <td>\\nNo, you do not need a new EIN since you are ...</td>\n",
       "      <td>[You don't need to notify the IRS of new membe...</td>\n",
       "    </tr>\n",
       "    <tr>\n",
       "      <th>16</th>\n",
       "      <td>Privacy preferences on creditworthiness data</td>\n",
       "      <td>[See the first item in the list: For our every...</td>\n",
       "      <td>\\nThe best answer to this question is that you...</td>\n",
       "      <td>[See the first item in the list: For our every...</td>\n",
       "    </tr>\n",
       "    <tr>\n",
       "      <th>17</th>\n",
       "      <td>Have plenty of cash flow but bad credit</td>\n",
       "      <td>[Set up a meeting with the bank that handles y...</td>\n",
       "      <td>\\nIf you have plenty of cash flow but bad cred...</td>\n",
       "      <td>[This is probably a good time to note that cre...</td>\n",
       "    </tr>\n",
       "    <tr>\n",
       "      <th>18</th>\n",
       "      <td>financial institution wants share member break...</td>\n",
       "      <td>[\"What exactly would the financial institution...</td>\n",
       "      <td>\\nThe financial institution would need to see ...</td>\n",
       "      <td>[\"What exactly would the financial institution...</td>\n",
       "    </tr>\n",
       "    <tr>\n",
       "      <th>19</th>\n",
       "      <td>Sole proprietorship or LLC?</td>\n",
       "      <td>[\"The primary advantage is protection of your ...</td>\n",
       "      <td>\\nIt depends on your individual situation and ...</td>\n",
       "      <td>[There is some benefit to creating a corporati...</td>\n",
       "    </tr>\n",
       "    <tr>\n",
       "      <th>20</th>\n",
       "      <td>What percentage of my company should I have if...</td>\n",
       "      <td>[There is no universal answer here; it depends...</td>\n",
       "      <td>\\nIt is generally recommended to have no more ...</td>\n",
       "      <td>[To me it depends on things like your net wort...</td>\n",
       "    </tr>\n",
       "    <tr>\n",
       "      <th>21</th>\n",
       "      <td>Where to request ACH Direct DEBIT of funds fro...</td>\n",
       "      <td>[Call Wells Fargo or go to a branch.  Tell the...</td>\n",
       "      <td>\\nThe best place to request ACH Direct DEBIT o...</td>\n",
       "      <td>[Call Wells Fargo or go to a branch.  Tell the...</td>\n",
       "    </tr>\n",
       "    <tr>\n",
       "      <th>22</th>\n",
       "      <td>Challenged an apparently bogus credit card cha...</td>\n",
       "      <td>[Yes.  For $15 it's not worth anyone's time to...</td>\n",
       "      <td>\\nNow, the collector is obliged to go back to ...</td>\n",
       "      <td>[If you tell the collector that the claim isn'...</td>\n",
       "    </tr>\n",
       "    <tr>\n",
       "      <th>23</th>\n",
       "      <td>Employer options when setting up 401k for empl...</td>\n",
       "      <td>[If you were looking to maximize your ability ...</td>\n",
       "      <td>\\nWhen setting up a 401k plan for employees, e...</td>\n",
       "      <td>[Pre-Enron many companies forced the 401K matc...</td>\n",
       "    </tr>\n",
       "    <tr>\n",
       "      <th>24</th>\n",
       "      <td>Following an investment guru a good idea?</td>\n",
       "      <td>[\"The best answer here is \"\"maybe, but probabl...</td>\n",
       "      <td>\\nNo, following an investment guru is not nece...</td>\n",
       "      <td>[I think following the professional money mana...</td>\n",
       "    </tr>\n",
       "    <tr>\n",
       "      <th>25</th>\n",
       "      <td>Is there a reason to buy a 0% yield bond?</td>\n",
       "      <td>[0% bonds are desirable for some individuals. ...</td>\n",
       "      <td>\\nYes, there is a reason to buy a 0% yield bon...</td>\n",
       "      <td>[No, there isn't. There are a number of reason...</td>\n",
       "    </tr>\n",
       "    <tr>\n",
       "      <th>26</th>\n",
       "      <td>Should a retail trader bother about reading SE...</td>\n",
       "      <td>[\"There are many different kinds of SEC filing...</td>\n",
       "      <td>\\nIt depends on the individual investor's goal...</td>\n",
       "      <td>[\"There are many different kinds of SEC filing...</td>\n",
       "    </tr>\n",
       "    <tr>\n",
       "      <th>27</th>\n",
       "      <td>Will one’s education loan application be rejec...</td>\n",
       "      <td>[A bank can reject a loan if they feel you do ...</td>\n",
       "      <td>\\nIt is possible that one's education loan app...</td>\n",
       "      <td>[Edit: lazy math The answer to this question d...</td>\n",
       "    </tr>\n",
       "    <tr>\n",
       "      <th>28</th>\n",
       "      <td>Is there a dollar amount that, when adding Mas...</td>\n",
       "      <td>[No. $188.23 has $11.76 tax = $199.99 $188.24 ...</td>\n",
       "      <td>\\nNo, there is not a dollar amount that, when ...</td>\n",
       "      <td>[Yes, it's a simple calculation. (x+0.0625x)=2...</td>\n",
       "    </tr>\n",
       "    <tr>\n",
       "      <th>29</th>\n",
       "      <td>Is it wise to have plenty of current accounts ...</td>\n",
       "      <td>[Its actually a good thing.  The #1 factor to ...</td>\n",
       "      <td>\\nYes, it is wise to have plenty of current ac...</td>\n",
       "      <td>[I don't think there's any law against having ...</td>\n",
       "    </tr>\n",
       "  </tbody>\n",
       "</table>\n",
       "</div>"
      ],
      "text/plain": [
       "                                             question  \\\n",
       "0   How to deposit a cheque issued to an associate...   \n",
       "1   Can I send a money order from USPS as a business?   \n",
       "2   1 EIN doing business under multiple business n...   \n",
       "3          Applying for and receiving business credit   \n",
       "4                401k Transfer After Business Closure   \n",
       "5   What are the ins/outs of writing equipment pur...   \n",
       "6   Can a entrepreneur hire a self-employed busine...   \n",
       "7   Intentions of Deductible Amount for Small Busi...   \n",
       "8   How can I deposit a check made out to my busin...   \n",
       "9   Filing personal with 1099s versus business s-c...   \n",
       "10  Using credit card points to pay for tax deduct...   \n",
       "11  How can I make $250,000.00 from trading/invest...   \n",
       "12  Investing/business with other people's money: ...   \n",
       "13  What approaches are there for pricing a small ...   \n",
       "14  How to account for money earned and spent prio...   \n",
       "15  Do I need a new EIN since I am hiring employee...   \n",
       "16       Privacy preferences on creditworthiness data   \n",
       "17            Have plenty of cash flow but bad credit   \n",
       "18  financial institution wants share member break...   \n",
       "19                        Sole proprietorship or LLC?   \n",
       "20  What percentage of my company should I have if...   \n",
       "21  Where to request ACH Direct DEBIT of funds fro...   \n",
       "22  Challenged an apparently bogus credit card cha...   \n",
       "23  Employer options when setting up 401k for empl...   \n",
       "24          Following an investment guru a good idea?   \n",
       "25          Is there a reason to buy a 0% yield bond?   \n",
       "26  Should a retail trader bother about reading SE...   \n",
       "27  Will one’s education loan application be rejec...   \n",
       "28  Is there a dollar amount that, when adding Mas...   \n",
       "29  Is it wise to have plenty of current accounts ...   \n",
       "\n",
       "                                        ground_truths  \\\n",
       "0   [Have the check reissued to the proper payee.J...   \n",
       "1   [Sure you can.  You can fill in whatever you w...   \n",
       "2   [You're confusing a lot of things here. Compan...   \n",
       "3   [\"I'm afraid the great myth of limited liabili...   \n",
       "4   [You should probably consult an attorney. Howe...   \n",
       "5   [Most items used in business have to be deprec...   \n",
       "6   [Yes. I can by all means start my own company ...   \n",
       "7   [\"If your sole proprietorship losses exceed al...   \n",
       "8   [You should have a separate business account. ...   \n",
       "9   [Depends whom the 1099 was issued to. If it wa...   \n",
       "10  [\"For simplicity, let's start by just consider...   \n",
       "11  [Deposit $3,500 each month in a brokerage acco...   \n",
       "12  [\"Basically, you either borrow money, or get o...   \n",
       "13  [I don't have any experience in this, but this...   \n",
       "14  [Funds earned and spent before opening a dedic...   \n",
       "15  [I called the IRS (click here for IRS contact ...   \n",
       "16  [See the first item in the list: For our every...   \n",
       "17  [Set up a meeting with the bank that handles y...   \n",
       "18  [\"What exactly would the financial institution...   \n",
       "19  [\"The primary advantage is protection of your ...   \n",
       "20  [There is no universal answer here; it depends...   \n",
       "21  [Call Wells Fargo or go to a branch.  Tell the...   \n",
       "22  [Yes.  For $15 it's not worth anyone's time to...   \n",
       "23  [If you were looking to maximize your ability ...   \n",
       "24  [\"The best answer here is \"\"maybe, but probabl...   \n",
       "25  [0% bonds are desirable for some individuals. ...   \n",
       "26  [\"There are many different kinds of SEC filing...   \n",
       "27  [A bank can reject a loan if they feel you do ...   \n",
       "28  [No. $188.23 has $11.76 tax = $199.99 $188.24 ...   \n",
       "29  [Its actually a good thing.  The #1 factor to ...   \n",
       "\n",
       "                                               answer  \\\n",
       "0   \\nThe best way to deposit a cheque issued to a...   \n",
       "1   \\nYes, you can send a money order from USPS as...   \n",
       "2   \\nYes, it is possible to have one EIN doing bu...   \n",
       "3   \\nApplying for and receiving business credit c...   \n",
       "4   \\nIf your employer has closed and you need to ...   \n",
       "5   \\nWriting equipment purchases off as business ...   \n",
       "6   \\nYes, an entrepreneur can hire a self-employe...   \n",
       "7   \\nThe intention of deductible amounts for smal...   \n",
       "8   \\nYou can deposit a check made out to your bus...   \n",
       "9   \\nFiling personal taxes with 1099s versus fili...   \n",
       "10  \\nUsing credit card points to pay for tax dedu...   \n",
       "11  \\nMaking $250,000.00 from trading/investing/bu...   \n",
       "12  \\nInvesting/business with other people's money...   \n",
       "13  \\nThere are several approaches for pricing a s...   \n",
       "14  \\nMoney earned and spent prior to establishing...   \n",
       "15  \\nNo, you do not need a new EIN since you are ...   \n",
       "16  \\nThe best answer to this question is that you...   \n",
       "17  \\nIf you have plenty of cash flow but bad cred...   \n",
       "18  \\nThe financial institution would need to see ...   \n",
       "19  \\nIt depends on your individual situation and ...   \n",
       "20  \\nIt is generally recommended to have no more ...   \n",
       "21  \\nThe best place to request ACH Direct DEBIT o...   \n",
       "22  \\nNow, the collector is obliged to go back to ...   \n",
       "23  \\nWhen setting up a 401k plan for employees, e...   \n",
       "24  \\nNo, following an investment guru is not nece...   \n",
       "25  \\nYes, there is a reason to buy a 0% yield bon...   \n",
       "26  \\nIt depends on the individual investor's goal...   \n",
       "27  \\nIt is possible that one's education loan app...   \n",
       "28  \\nNo, there is not a dollar amount that, when ...   \n",
       "29  \\nYes, it is wise to have plenty of current ac...   \n",
       "\n",
       "                                             contexts  \n",
       "0   [Just have the associate sign the back and the...  \n",
       "1   [Sure you can.  You can fill in whatever you w...  \n",
       "2   [You're confusing a lot of things here. Compan...  \n",
       "3   [Set up a meeting with the bank that handles y...  \n",
       "4   [The time horizon for your 401K/IRA is essenti...  \n",
       "5   [You would report it as business income on Sch...  \n",
       "6   [Yes. I can by all means start my own company ...  \n",
       "7   [\"Short answer, yes. But this is not done thro...  \n",
       "8   [\"I have checked with Bank of America, and the...  \n",
       "9   [Depends whom the 1099 was issued to. If it wa...  \n",
       "10  [\"For simplicity, let's start by just consider...  \n",
       "11  [\"The answer to your question is Forex trading...  \n",
       "12  [\"Basically, you either borrow money, or get o...  \n",
       "13  [I don't have any experience in this, but this...  \n",
       "14  [Funds earned and spent before opening a dedic...  \n",
       "15  [You don't need to notify the IRS of new membe...  \n",
       "16  [See the first item in the list: For our every...  \n",
       "17  [This is probably a good time to note that cre...  \n",
       "18  [\"What exactly would the financial institution...  \n",
       "19  [There is some benefit to creating a corporati...  \n",
       "20  [To me it depends on things like your net wort...  \n",
       "21  [Call Wells Fargo or go to a branch.  Tell the...  \n",
       "22  [If you tell the collector that the claim isn'...  \n",
       "23  [Pre-Enron many companies forced the 401K matc...  \n",
       "24  [I think following the professional money mana...  \n",
       "25  [No, there isn't. There are a number of reason...  \n",
       "26  [\"There are many different kinds of SEC filing...  \n",
       "27  [Edit: lazy math The answer to this question d...  \n",
       "28  [Yes, it's a simple calculation. (x+0.0625x)=2...  \n",
       "29  [I don't think there's any law against having ...  "
      ]
     },
     "execution_count": 5,
     "metadata": {},
     "output_type": "execute_result"
    }
   ],
   "source": [
    "data.to_pandas()"
   ]
  },
  {
   "cell_type": "markdown",
   "metadata": {},
   "source": [
    "### Ragas"
   ]
  },
  {
   "cell_type": "markdown",
   "metadata": {},
   "source": [
    "This section goes over how to call the Ragas library on the input tealium dataset. Run this section if you want to manually run the initial tealium data (or any updated data) using Ragas. "
   ]
  },
  {
   "cell_type": "code",
   "execution_count": 12,
   "metadata": {},
   "outputs": [
    {
     "name": "stdout",
     "output_type": "stream",
     "text": [
      "\u001b[31mERROR: pip's dependency resolver does not currently take into account all the packages that are installed. This behaviour is the source of the following dependency conflicts.\r\n",
      "awscli 1.32.13 requires botocore==1.34.13, but you have botocore 1.33.9 which is incompatible.\r\n",
      "awscli 1.32.13 requires s3transfer<0.11.0,>=0.10.0, but you have s3transfer 0.8.2 which is incompatible.\u001b[0m\u001b[31m\r\n",
      "\u001b[0m"
     ]
    }
   ],
   "source": [
    "# add directory to aws_ragas pyproject.toml file \n",
    "!pip install -e ../../aws_ragas/ --quiet"
   ]
  },
  {
   "cell_type": "code",
   "execution_count": 13,
   "metadata": {
    "scrolled": true
   },
   "outputs": [
    {
     "name": "stdout",
     "output_type": "stream",
     "text": [
      "Collecting llama-index==0.9.6.post1\n",
      "  Downloading llama_index-0.9.6.post1-py3-none-any.whl.metadata (8.2 kB)\n",
      "Requirement already satisfied: SQLAlchemy>=1.4.49 in /home/ec2-user/anaconda3/envs/python3/lib/python3.10/site-packages (from SQLAlchemy[asyncio]>=1.4.49->llama-index==0.9.6.post1) (2.0.22)\n",
      "Requirement already satisfied: aiohttp<4.0.0,>=3.8.6 in /home/ec2-user/anaconda3/envs/python3/lib/python3.10/site-packages (from llama-index==0.9.6.post1) (3.8.6)\n",
      "Collecting aiostream<0.6.0,>=0.5.2 (from llama-index==0.9.6.post1)\n",
      "  Downloading aiostream-0.5.2-py3-none-any.whl.metadata (9.9 kB)\n",
      "Requirement already satisfied: beautifulsoup4<5.0.0,>=4.12.2 in /home/ec2-user/anaconda3/envs/python3/lib/python3.10/site-packages (from llama-index==0.9.6.post1) (4.12.2)\n",
      "Requirement already satisfied: dataclasses-json in /home/ec2-user/anaconda3/envs/python3/lib/python3.10/site-packages (from llama-index==0.9.6.post1) (0.6.4)\n",
      "Collecting deprecated>=1.2.9.3 (from llama-index==0.9.6.post1)\n",
      "  Downloading Deprecated-1.2.14-py2.py3-none-any.whl.metadata (5.4 kB)\n",
      "Requirement already satisfied: fsspec>=2023.5.0 in /home/ec2-user/anaconda3/envs/python3/lib/python3.10/site-packages (from llama-index==0.9.6.post1) (2023.10.0)\n",
      "Requirement already satisfied: httpx in /home/ec2-user/anaconda3/envs/python3/lib/python3.10/site-packages (from llama-index==0.9.6.post1) (0.26.0)\n",
      "Requirement already satisfied: nest-asyncio<2.0.0,>=1.5.8 in /home/ec2-user/anaconda3/envs/python3/lib/python3.10/site-packages (from llama-index==0.9.6.post1) (1.5.8)\n",
      "Requirement already satisfied: nltk<4.0.0,>=3.8.1 in /home/ec2-user/anaconda3/envs/python3/lib/python3.10/site-packages (from llama-index==0.9.6.post1) (3.8.1)\n",
      "Requirement already satisfied: numpy in /home/ec2-user/anaconda3/envs/python3/lib/python3.10/site-packages (from llama-index==0.9.6.post1) (1.22.4)\n",
      "Requirement already satisfied: openai>=1.1.0 in /home/ec2-user/anaconda3/envs/python3/lib/python3.10/site-packages (from llama-index==0.9.6.post1) (1.11.1)\n",
      "Requirement already satisfied: pandas in /home/ec2-user/anaconda3/envs/python3/lib/python3.10/site-packages (from llama-index==0.9.6.post1) (2.1.1)\n",
      "Requirement already satisfied: tenacity<9.0.0,>=8.2.0 in /home/ec2-user/anaconda3/envs/python3/lib/python3.10/site-packages (from llama-index==0.9.6.post1) (8.2.3)\n",
      "Requirement already satisfied: tiktoken>=0.3.3 in /home/ec2-user/anaconda3/envs/python3/lib/python3.10/site-packages (from llama-index==0.9.6.post1) (0.5.2)\n",
      "Requirement already satisfied: typing-extensions>=4.5.0 in /home/ec2-user/anaconda3/envs/python3/lib/python3.10/site-packages (from llama-index==0.9.6.post1) (4.8.0)\n",
      "Requirement already satisfied: typing-inspect>=0.8.0 in /home/ec2-user/anaconda3/envs/python3/lib/python3.10/site-packages (from llama-index==0.9.6.post1) (0.9.0)\n",
      "Requirement already satisfied: urllib3<2 in /home/ec2-user/anaconda3/envs/python3/lib/python3.10/site-packages (from llama-index==0.9.6.post1) (1.26.18)\n",
      "Requirement already satisfied: attrs>=17.3.0 in /home/ec2-user/anaconda3/envs/python3/lib/python3.10/site-packages (from aiohttp<4.0.0,>=3.8.6->llama-index==0.9.6.post1) (23.1.0)\n",
      "Requirement already satisfied: charset-normalizer<4.0,>=2.0 in /home/ec2-user/anaconda3/envs/python3/lib/python3.10/site-packages (from aiohttp<4.0.0,>=3.8.6->llama-index==0.9.6.post1) (3.3.1)\n",
      "Requirement already satisfied: multidict<7.0,>=4.5 in /home/ec2-user/anaconda3/envs/python3/lib/python3.10/site-packages (from aiohttp<4.0.0,>=3.8.6->llama-index==0.9.6.post1) (6.0.4)\n",
      "Requirement already satisfied: async-timeout<5.0,>=4.0.0a3 in /home/ec2-user/anaconda3/envs/python3/lib/python3.10/site-packages (from aiohttp<4.0.0,>=3.8.6->llama-index==0.9.6.post1) (4.0.3)\n",
      "Requirement already satisfied: yarl<2.0,>=1.0 in /home/ec2-user/anaconda3/envs/python3/lib/python3.10/site-packages (from aiohttp<4.0.0,>=3.8.6->llama-index==0.9.6.post1) (1.9.2)\n",
      "Requirement already satisfied: frozenlist>=1.1.1 in /home/ec2-user/anaconda3/envs/python3/lib/python3.10/site-packages (from aiohttp<4.0.0,>=3.8.6->llama-index==0.9.6.post1) (1.4.0)\n",
      "Requirement already satisfied: aiosignal>=1.1.2 in /home/ec2-user/anaconda3/envs/python3/lib/python3.10/site-packages (from aiohttp<4.0.0,>=3.8.6->llama-index==0.9.6.post1) (1.3.1)\n",
      "Requirement already satisfied: soupsieve>1.2 in /home/ec2-user/anaconda3/envs/python3/lib/python3.10/site-packages (from beautifulsoup4<5.0.0,>=4.12.2->llama-index==0.9.6.post1) (2.5)\n",
      "Requirement already satisfied: wrapt<2,>=1.10 in /home/ec2-user/anaconda3/envs/python3/lib/python3.10/site-packages (from deprecated>=1.2.9.3->llama-index==0.9.6.post1) (1.15.0)\n",
      "Requirement already satisfied: click in /home/ec2-user/anaconda3/envs/python3/lib/python3.10/site-packages (from nltk<4.0.0,>=3.8.1->llama-index==0.9.6.post1) (8.1.7)\n",
      "Requirement already satisfied: joblib in /home/ec2-user/anaconda3/envs/python3/lib/python3.10/site-packages (from nltk<4.0.0,>=3.8.1->llama-index==0.9.6.post1) (1.3.2)\n",
      "Requirement already satisfied: regex>=2021.8.3 in /home/ec2-user/anaconda3/envs/python3/lib/python3.10/site-packages (from nltk<4.0.0,>=3.8.1->llama-index==0.9.6.post1) (2023.10.3)\n",
      "Requirement already satisfied: tqdm in /home/ec2-user/anaconda3/envs/python3/lib/python3.10/site-packages (from nltk<4.0.0,>=3.8.1->llama-index==0.9.6.post1) (4.66.1)\n",
      "Requirement already satisfied: anyio<5,>=3.5.0 in /home/ec2-user/anaconda3/envs/python3/lib/python3.10/site-packages (from openai>=1.1.0->llama-index==0.9.6.post1) (4.0.0)\n",
      "Requirement already satisfied: distro<2,>=1.7.0 in /home/ec2-user/anaconda3/envs/python3/lib/python3.10/site-packages (from openai>=1.1.0->llama-index==0.9.6.post1) (1.9.0)\n",
      "Requirement already satisfied: pydantic<3,>=1.9.0 in /home/ec2-user/anaconda3/envs/python3/lib/python3.10/site-packages (from openai>=1.1.0->llama-index==0.9.6.post1) (1.10.13)\n",
      "Requirement already satisfied: sniffio in /home/ec2-user/anaconda3/envs/python3/lib/python3.10/site-packages (from openai>=1.1.0->llama-index==0.9.6.post1) (1.3.0)\n",
      "Requirement already satisfied: certifi in /home/ec2-user/anaconda3/envs/python3/lib/python3.10/site-packages (from httpx->llama-index==0.9.6.post1) (2023.7.22)\n",
      "Requirement already satisfied: httpcore==1.* in /home/ec2-user/anaconda3/envs/python3/lib/python3.10/site-packages (from httpx->llama-index==0.9.6.post1) (1.0.2)\n",
      "Requirement already satisfied: idna in /home/ec2-user/anaconda3/envs/python3/lib/python3.10/site-packages (from httpx->llama-index==0.9.6.post1) (3.4)\n",
      "Requirement already satisfied: h11<0.15,>=0.13 in /home/ec2-user/anaconda3/envs/python3/lib/python3.10/site-packages (from httpcore==1.*->httpx->llama-index==0.9.6.post1) (0.14.0)\n",
      "Requirement already satisfied: greenlet!=0.4.17 in /home/ec2-user/anaconda3/envs/python3/lib/python3.10/site-packages (from SQLAlchemy>=1.4.49->SQLAlchemy[asyncio]>=1.4.49->llama-index==0.9.6.post1) (3.0.1)\n",
      "Requirement already satisfied: requests>=2.26.0 in /home/ec2-user/anaconda3/envs/python3/lib/python3.10/site-packages (from tiktoken>=0.3.3->llama-index==0.9.6.post1) (2.31.0)\n",
      "Requirement already satisfied: mypy-extensions>=0.3.0 in /home/ec2-user/anaconda3/envs/python3/lib/python3.10/site-packages (from typing-inspect>=0.8.0->llama-index==0.9.6.post1) (1.0.0)\n",
      "Requirement already satisfied: marshmallow<4.0.0,>=3.18.0 in /home/ec2-user/anaconda3/envs/python3/lib/python3.10/site-packages (from dataclasses-json->llama-index==0.9.6.post1) (3.20.2)\n",
      "Requirement already satisfied: python-dateutil>=2.8.2 in /home/ec2-user/anaconda3/envs/python3/lib/python3.10/site-packages (from pandas->llama-index==0.9.6.post1) (2.8.2)\n",
      "Requirement already satisfied: pytz>=2020.1 in /home/ec2-user/anaconda3/envs/python3/lib/python3.10/site-packages (from pandas->llama-index==0.9.6.post1) (2023.3.post1)\n",
      "Requirement already satisfied: tzdata>=2022.1 in /home/ec2-user/anaconda3/envs/python3/lib/python3.10/site-packages (from pandas->llama-index==0.9.6.post1) (2023.3)\n",
      "Requirement already satisfied: exceptiongroup>=1.0.2 in /home/ec2-user/anaconda3/envs/python3/lib/python3.10/site-packages (from anyio<5,>=3.5.0->openai>=1.1.0->llama-index==0.9.6.post1) (1.1.3)\n",
      "Requirement already satisfied: packaging>=17.0 in /home/ec2-user/anaconda3/envs/python3/lib/python3.10/site-packages (from marshmallow<4.0.0,>=3.18.0->dataclasses-json->llama-index==0.9.6.post1) (23.2)\n"
     ]
    },
    {
     "name": "stdout",
     "output_type": "stream",
     "text": [
      "Requirement already satisfied: six>=1.5 in /home/ec2-user/anaconda3/envs/python3/lib/python3.10/site-packages (from python-dateutil>=2.8.2->pandas->llama-index==0.9.6.post1) (1.16.0)\n",
      "Downloading llama_index-0.9.6.post1-py3-none-any.whl (896 kB)\n",
      "\u001b[2K   \u001b[90m━━━━━━━━━━━━━━━━━━━━━━━━━━━━━━━━━━━━━━━━\u001b[0m \u001b[32m896.4/896.4 kB\u001b[0m \u001b[31m14.9 MB/s\u001b[0m eta \u001b[36m0:00:00\u001b[0m00:01\u001b[0m\n",
      "\u001b[?25hDownloading aiostream-0.5.2-py3-none-any.whl (39 kB)\n",
      "Downloading Deprecated-1.2.14-py2.py3-none-any.whl (9.6 kB)\n",
      "Installing collected packages: deprecated, aiostream, llama-index\n",
      "Successfully installed aiostream-0.5.2 deprecated-1.2.14 llama-index-0.9.6.post1\n"
     ]
    }
   ],
   "source": [
    "# For some reason this is not working when I add it to the pyproject.toml, will investigate later\n",
    "!pip install llama-index==0.9.6.post1"
   ]
  },
  {
   "cell_type": "code",
   "execution_count": 14,
   "metadata": {},
   "outputs": [],
   "source": [
    "import sys\n",
    "path_to_ragas_code = '/home/ec2-user/SageMaker/aws_ragas/src'\n",
    "sys.path.append(path_to_ragas_code)"
   ]
  },
  {
   "cell_type": "code",
   "execution_count": 15,
   "metadata": {},
   "outputs": [
    {
     "data": {
      "application/vnd.jupyter.widget-view+json": {
       "model_id": "81f55a6213de4c3d98ad56b6022786da",
       "version_major": 2,
       "version_minor": 0
      },
      "text/plain": [
       "config.json:   0%|          | 0.00/647 [00:00<?, ?B/s]"
      ]
     },
     "metadata": {},
     "output_type": "display_data"
    },
    {
     "data": {
      "application/vnd.jupyter.widget-view+json": {
       "model_id": "f18dc5a120b143ba8b7ce8587088393e",
       "version_major": 2,
       "version_minor": 0
      },
      "text/plain": [
       "pytorch_model.bin:   0%|          | 0.00/57.4M [00:00<?, ?B/s]"
      ]
     },
     "metadata": {},
     "output_type": "display_data"
    },
    {
     "data": {
      "application/vnd.jupyter.widget-view+json": {
       "model_id": "22dd8ac1f94746ee832562f2a887d349",
       "version_major": 2,
       "version_minor": 0
      },
      "text/plain": [
       "tokenizer_config.json:   0%|          | 0.00/517 [00:00<?, ?B/s]"
      ]
     },
     "metadata": {},
     "output_type": "display_data"
    },
    {
     "data": {
      "application/vnd.jupyter.widget-view+json": {
       "model_id": "f2c3ccf82d3c47989d6c25e3bd9c89e0",
       "version_major": 2,
       "version_minor": 0
      },
      "text/plain": [
       "vocab.txt:   0%|          | 0.00/232k [00:00<?, ?B/s]"
      ]
     },
     "metadata": {},
     "output_type": "display_data"
    },
    {
     "data": {
      "application/vnd.jupyter.widget-view+json": {
       "model_id": "009ff8f4341b4e05bc2fefac945822b1",
       "version_major": 2,
       "version_minor": 0
      },
      "text/plain": [
       "special_tokens_map.json:   0%|          | 0.00/112 [00:00<?, ?B/s]"
      ]
     },
     "metadata": {},
     "output_type": "display_data"
    }
   ],
   "source": [
    "from ragas.metrics.answer_correctness import AnswerCorrectness, answer_correctness\n",
    "from ragas.metrics.answer_relevance import AnswerRelevancy, answer_relevancy\n",
    "from ragas.metrics.answer_similarity import AnswerSimilarity, answer_similarity\n",
    "from ragas.metrics.context_precision import (\n",
    "    ContextPrecision,\n",
    "    ContextRelevancy,\n",
    "    context_precision,\n",
    ")\n",
    "from ragas.metrics.context_recall import ContextRecall, context_recall\n",
    "from ragas.metrics.critique import AspectCritique\n",
    "from ragas.metrics.faithfulness import Faithfulness, faithfulness"
   ]
  },
  {
   "cell_type": "code",
   "execution_count": 16,
   "metadata": {},
   "outputs": [],
   "source": [
    "metrics = [\n",
    "    context_recall,\n",
    "    context_precision,\n",
    "    answer_relevancy,\n",
    "    faithfulness,\n",
    "    answer_similarity,\n",
    "    answer_correctness\n",
    "]"
   ]
  },
  {
   "cell_type": "code",
   "execution_count": 23,
   "metadata": {},
   "outputs": [
    {
     "name": "stdout",
     "output_type": "stream",
     "text": [
      "evaluating with [context_recall]\n"
     ]
    },
    {
     "name": "stderr",
     "output_type": "stream",
     "text": [
      "100%|██████████| 1/1 [01:13<00:00, 73.57s/it]\n"
     ]
    },
    {
     "name": "stdout",
     "output_type": "stream",
     "text": [
      "evaluating with [context_precision]\n"
     ]
    },
    {
     "name": "stderr",
     "output_type": "stream",
     "text": [
      "100%|██████████| 1/1 [00:10<00:00, 10.36s/it]\n"
     ]
    },
    {
     "name": "stdout",
     "output_type": "stream",
     "text": [
      "evaluating with [answer_relevancy]\n"
     ]
    },
    {
     "name": "stderr",
     "output_type": "stream",
     "text": [
      "100%|██████████| 1/1 [00:16<00:00, 16.04s/it]\n"
     ]
    },
    {
     "name": "stdout",
     "output_type": "stream",
     "text": [
      "evaluating with [faithfulness]\n"
     ]
    },
    {
     "name": "stderr",
     "output_type": "stream",
     "text": [
      "100%|██████████| 1/1 [01:45<00:00, 105.81s/it]\n"
     ]
    },
    {
     "name": "stdout",
     "output_type": "stream",
     "text": [
      "evaluating with [answer_similarity]\n"
     ]
    },
    {
     "name": "stderr",
     "output_type": "stream",
     "text": [
      "100%|██████████| 1/1 [00:02<00:00,  2.87s/it]\n"
     ]
    },
    {
     "name": "stdout",
     "output_type": "stream",
     "text": [
      "evaluating with [answer_correctness]\n"
     ]
    },
    {
     "name": "stderr",
     "output_type": "stream",
     "text": [
      "100%|██████████| 1/1 [01:32<00:00, 92.73s/it]\n"
     ]
    },
    {
     "ename": "AttributeError",
     "evalue": "'Result' object has no attribute 'to_csv'",
     "output_type": "error",
     "traceback": [
      "\u001b[0;31m---------------------------------------------------------------------------\u001b[0m",
      "\u001b[0;31mAttributeError\u001b[0m                            Traceback (most recent call last)",
      "Cell \u001b[0;32mIn[23], line 5\u001b[0m\n\u001b[1;32m      2\u001b[0m \u001b[38;5;66;03m# uncomment below line to run the evaluate function, otherwise bring in a\u001b[39;00m\n\u001b[1;32m      3\u001b[0m \u001b[38;5;66;03m#   dataset that already has ragas outputs. \u001b[39;00m\n\u001b[1;32m      4\u001b[0m result \u001b[38;5;241m=\u001b[39m evaluate(data\u001b[38;5;241m.\u001b[39mselect(\u001b[38;5;28mrange\u001b[39m(\u001b[38;5;241m5\u001b[39m)), metrics\u001b[38;5;241m=\u001b[39mmetrics)\n\u001b[0;32m----> 5\u001b[0m \u001b[43mresult\u001b[49m\u001b[38;5;241;43m.\u001b[39;49m\u001b[43mto_csv\u001b[49m(path_to_ragas_outputs, index\u001b[38;5;241m=\u001b[39m\u001b[38;5;28;01mFalse\u001b[39;00m)\n\u001b[1;32m      6\u001b[0m \u001b[38;5;66;03m# result = pd.read_csv('/home/ec2-user/SageMaker/Auto_Prompt/data/ragas_output.csv')\u001b[39;00m\n\u001b[1;32m      7\u001b[0m result\u001b[38;5;241m.\u001b[39mhead()\n",
      "\u001b[0;31mAttributeError\u001b[0m: 'Result' object has no attribute 'to_csv'"
     ]
    }
   ],
   "source": [
    "from ragas.evaluation import evaluate\n",
    "# uncomment below line to run the evaluate function, otherwise bring in a\n",
    "#   dataset that already has ragas outputs. \n",
    "result = evaluate(data.select(range(5)), metrics=metrics)"
   ]
  },
  {
   "cell_type": "code",
   "execution_count": 26,
   "metadata": {},
   "outputs": [
    {
     "data": {
      "text/html": [
       "<div>\n",
       "<style scoped>\n",
       "    .dataframe tbody tr th:only-of-type {\n",
       "        vertical-align: middle;\n",
       "    }\n",
       "\n",
       "    .dataframe tbody tr th {\n",
       "        vertical-align: top;\n",
       "    }\n",
       "\n",
       "    .dataframe thead th {\n",
       "        text-align: right;\n",
       "    }\n",
       "</style>\n",
       "<table border=\"1\" class=\"dataframe\">\n",
       "  <thead>\n",
       "    <tr style=\"text-align: right;\">\n",
       "      <th></th>\n",
       "      <th>question</th>\n",
       "      <th>contexts</th>\n",
       "      <th>answer</th>\n",
       "      <th>ground_truths</th>\n",
       "      <th>context_recall</th>\n",
       "      <th>context_precision</th>\n",
       "      <th>answer_relevancy</th>\n",
       "      <th>faithfulness</th>\n",
       "      <th>answer_similarity</th>\n",
       "      <th>answer_correctness</th>\n",
       "    </tr>\n",
       "  </thead>\n",
       "  <tbody>\n",
       "    <tr>\n",
       "      <th>0</th>\n",
       "      <td>How to deposit a cheque issued to an associate...</td>\n",
       "      <td>[Just have the associate sign the back and the...</td>\n",
       "      <td>\\nThe best way to deposit a cheque issued to a...</td>\n",
       "      <td>[Have the check reissued to the proper payee.J...</td>\n",
       "      <td>0.666667</td>\n",
       "      <td>0.0</td>\n",
       "      <td>0.930311</td>\n",
       "      <td>1.000000</td>\n",
       "      <td>0.524963</td>\n",
       "      <td>0.429148</td>\n",
       "    </tr>\n",
       "    <tr>\n",
       "      <th>1</th>\n",
       "      <td>Can I send a money order from USPS as a business?</td>\n",
       "      <td>[Sure you can.  You can fill in whatever you w...</td>\n",
       "      <td>\\nYes, you can send a money order from USPS as...</td>\n",
       "      <td>[Sure you can.  You can fill in whatever you w...</td>\n",
       "      <td>1.000000</td>\n",
       "      <td>1.0</td>\n",
       "      <td>0.969544</td>\n",
       "      <td>1.000000</td>\n",
       "      <td>0.526689</td>\n",
       "      <td>0.763345</td>\n",
       "    </tr>\n",
       "    <tr>\n",
       "      <th>2</th>\n",
       "      <td>1 EIN doing business under multiple business n...</td>\n",
       "      <td>[You're confusing a lot of things here. Compan...</td>\n",
       "      <td>\\nYes, it is possible to have one EIN doing bu...</td>\n",
       "      <td>[You're confusing a lot of things here. Compan...</td>\n",
       "      <td>0.714286</td>\n",
       "      <td>0.0</td>\n",
       "      <td>0.874973</td>\n",
       "      <td>1.000000</td>\n",
       "      <td>0.353534</td>\n",
       "      <td>0.476767</td>\n",
       "    </tr>\n",
       "    <tr>\n",
       "      <th>3</th>\n",
       "      <td>Applying for and receiving business credit</td>\n",
       "      <td>[Set up a meeting with the bank that handles y...</td>\n",
       "      <td>\\nApplying for and receiving business credit c...</td>\n",
       "      <td>[\"I'm afraid the great myth of limited liabili...</td>\n",
       "      <td>1.000000</td>\n",
       "      <td>0.0</td>\n",
       "      <td>0.648423</td>\n",
       "      <td>0.909091</td>\n",
       "      <td>0.772560</td>\n",
       "      <td>0.886280</td>\n",
       "    </tr>\n",
       "    <tr>\n",
       "      <th>4</th>\n",
       "      <td>401k Transfer After Business Closure</td>\n",
       "      <td>[The time horizon for your 401K/IRA is essenti...</td>\n",
       "      <td>\\nIf your employer has closed and you need to ...</td>\n",
       "      <td>[You should probably consult an attorney. Howe...</td>\n",
       "      <td>0.000000</td>\n",
       "      <td>0.0</td>\n",
       "      <td>0.804983</td>\n",
       "      <td>1.000000</td>\n",
       "      <td>0.646157</td>\n",
       "      <td>0.323079</td>\n",
       "    </tr>\n",
       "  </tbody>\n",
       "</table>\n",
       "</div>"
      ],
      "text/plain": [
       "                                            question  \\\n",
       "0  How to deposit a cheque issued to an associate...   \n",
       "1  Can I send a money order from USPS as a business?   \n",
       "2  1 EIN doing business under multiple business n...   \n",
       "3         Applying for and receiving business credit   \n",
       "4               401k Transfer After Business Closure   \n",
       "\n",
       "                                            contexts  \\\n",
       "0  [Just have the associate sign the back and the...   \n",
       "1  [Sure you can.  You can fill in whatever you w...   \n",
       "2  [You're confusing a lot of things here. Compan...   \n",
       "3  [Set up a meeting with the bank that handles y...   \n",
       "4  [The time horizon for your 401K/IRA is essenti...   \n",
       "\n",
       "                                              answer  \\\n",
       "0  \\nThe best way to deposit a cheque issued to a...   \n",
       "1  \\nYes, you can send a money order from USPS as...   \n",
       "2  \\nYes, it is possible to have one EIN doing bu...   \n",
       "3  \\nApplying for and receiving business credit c...   \n",
       "4  \\nIf your employer has closed and you need to ...   \n",
       "\n",
       "                                       ground_truths  context_recall  \\\n",
       "0  [Have the check reissued to the proper payee.J...        0.666667   \n",
       "1  [Sure you can.  You can fill in whatever you w...        1.000000   \n",
       "2  [You're confusing a lot of things here. Compan...        0.714286   \n",
       "3  [\"I'm afraid the great myth of limited liabili...        1.000000   \n",
       "4  [You should probably consult an attorney. Howe...        0.000000   \n",
       "\n",
       "   context_precision  answer_relevancy  faithfulness  answer_similarity  \\\n",
       "0                0.0          0.930311      1.000000           0.524963   \n",
       "1                1.0          0.969544      1.000000           0.526689   \n",
       "2                0.0          0.874973      1.000000           0.353534   \n",
       "3                0.0          0.648423      0.909091           0.772560   \n",
       "4                0.0          0.804983      1.000000           0.646157   \n",
       "\n",
       "   answer_correctness  \n",
       "0            0.429148  \n",
       "1            0.763345  \n",
       "2            0.476767  \n",
       "3            0.886280  \n",
       "4            0.323079  "
      ]
     },
     "execution_count": 26,
     "metadata": {},
     "output_type": "execute_result"
    }
   ],
   "source": [
    "result.to_pandas().to_csv(path_to_ragas_outputs, index=False)\n",
    "# result = pd.read_csv('/home/ec2-user/SageMaker/Auto_Prompt/data/ragas_output.csv')\n",
    "result.to_pandas().head()"
   ]
  },
  {
   "cell_type": "markdown",
   "metadata": {
    "id": "MJSSKFfV_X9F"
   },
   "source": [
    "## Automatic Prompt Generation"
   ]
  },
  {
   "cell_type": "markdown",
   "metadata": {},
   "source": [
    "Here, automatic prompt generation is done using specific templates (available in instruction_generation_templates folder). "
   ]
  },
  {
   "cell_type": "code",
   "execution_count": 6,
   "metadata": {},
   "outputs": [],
   "source": [
    "files = [\n",
    "    \"one-paragraph_instruction_with_demo.txt\", \n",
    "    \"one-sentence_instruction_with_demo.txt\", \n",
    "    \"step-by-step_instruction_with_demo.txt\"\n",
    "]"
   ]
  },
  {
   "cell_type": "code",
   "execution_count": 7,
   "metadata": {},
   "outputs": [
    {
     "name": "stderr",
     "output_type": "stream",
     "text": [
      "/home/ec2-user/SageMaker/Auto_Prompt/src/run_autoprompt.py:14: SettingWithCopyWarning: \n",
      "A value is trying to be set on a copy of a slice from a DataFrame.\n",
      "Try using .loc[row_indexer,col_indexer] = value instead\n",
      "\n",
      "See the caveats in the documentation: https://pandas.pydata.org/pandas-docs/stable/user_guide/indexing.html#returning-a-view-versus-a-copy\n",
      "  fix_prompts['contexts'] = fix_prompts['contexts'].apply(literal_eval)\n",
      "/home/ec2-user/SageMaker/Auto_Prompt/src/run_autoprompt.py:15: SettingWithCopyWarning: \n",
      "A value is trying to be set on a copy of a slice from a DataFrame.\n",
      "Try using .loc[row_indexer,col_indexer] = value instead\n",
      "\n",
      "See the caveats in the documentation: https://pandas.pydata.org/pandas-docs/stable/user_guide/indexing.html#returning-a-view-versus-a-copy\n",
      "  fix_prompts['ground_truths'] = fix_prompts['ground_truths'].apply(\n",
      "/home/ec2-user/anaconda3/envs/python3/lib/python3.10/site-packages/langchain_core/_api/deprecation.py:117: LangChainDeprecationWarning: The function `__call__` was deprecated in LangChain 0.1.7 and will be removed in 0.2.0. Use invoke instead.\n",
      "  warn_deprecated(\n"
     ]
    },
    {
     "name": "stdout",
     "output_type": "stream",
     "text": [
      "9\n"
     ]
    },
    {
     "name": "stderr",
     "output_type": "stream",
     "text": [
      "\r",
      "  0%|                                          | 0/27 [00:00<?, ?it/s]"
     ]
    },
    {
     "name": "stdout",
     "output_type": "stream",
     "text": [
      "Gen 1:   Here is a one paragraph instruction on how to solve the task without mentioning any context:\n",
      "\n",
      "To complete the task, follow these steps in a clear and concise manner. First, carefully examine what is being asked of you to understand the goal or purpose that needs to be accomplished. Second, think\n",
      "Gen 2:   Here is a one paragraph instruction on how to approach the task without mentioning any specifics:\n",
      "\n",
      "To successfully complete the task at hand, it is important to first gain a thorough understanding of what is being asked and identify the core issue or problem presented. Look for any clues within the available information that could\n",
      "----------\n"
     ]
    },
    {
     "name": "stderr",
     "output_type": "stream",
     "text": [
      "\r",
      "  7%|██▌                               | 2/27 [00:04<00:56,  2.25s/it]"
     ]
    },
    {
     "name": "stdout",
     "output_type": "stream",
     "text": [
      "Draw\n",
      "Gen 1:   Here is a one sentence instruction for the task without mentioning any context:\n",
      "\n",
      "Examine the available information and use relevant details to construct an appropriate response similar in format and wording to the example provided.\n",
      "Gen 2:   Here is a one sentence instruction on how to approach the task without referencing any specifics: Think broadly about possible ways to analyze the situation and respond constructively.\n",
      "----------\n"
     ]
    },
    {
     "name": "stderr",
     "output_type": "stream",
     "text": [
      "\r",
      " 11%|███▊                              | 3/27 [00:09<01:20,  3.35s/it]"
     ]
    },
    {
     "name": "stdout",
     "output_type": "stream",
     "text": [
      "Draw\n",
      "Gen 1:   Here is a step-by-step instruction on how to solve the task without mentioning any content from the context:\n",
      "\n",
      "1. Identify the key elements involved in the task based on the question asked. \n",
      "2. Break down the task into individual steps that need to be completed to solve\n",
      "Gen 2:   Here is a step-by-step instruction on how to approach the task without referencing any specifics:\n",
      "\n",
      "1. Carefully examine the overall goal or objective presented. Identify the key elements that must be accomplished.\n",
      "\n",
      "2. Break the task down into a series of individual steps or\n",
      "----------\n"
     ]
    },
    {
     "name": "stderr",
     "output_type": "stream",
     "text": [
      "\r",
      " 15%|█████                             | 4/27 [00:15<01:41,  4.42s/it]"
     ]
    },
    {
     "name": "stdout",
     "output_type": "stream",
     "text": [
      "Draw\n",
      "Gen 1:   Here is a one paragraph instruction on how to approach the task without mentioning any specifics:\n",
      "\n",
      "To successfully complete the task at hand, it is important to first gain a thorough understanding of what is being asked and identify the core issue or problem presented. Look for any clues within the context that could help\n",
      "Gen 2:   Here is a one paragraph instruction on how to solve the task without mentioning any content from the provided context:\n",
      "\n",
      "To successfully complete the objective, it is important to carefully analyze the situation and think creatively about alternative approaches. Consider all possible angles and perspectives without making assumptions, then strategize a step\n",
      "----------\n"
     ]
    },
    {
     "name": "stderr",
     "output_type": "stream",
     "text": [
      "\r",
      " 19%|██████▎                           | 5/27 [00:20<01:38,  4.48s/it]"
     ]
    },
    {
     "name": "stdout",
     "output_type": "stream",
     "text": [
      "Draw\n",
      "Gen 1:   Here is a one sentence instruction on how to approach the task without referencing any specifics: Think broadly about possible ways to analyze the situation and respond constructively.\n",
      "Gen 2:   Here is a one sentence instruction on how to solve the task without mentioning any content from the provided context: Think creatively to address the underlying issue in a novel yet suitable manner.\n",
      "----------\n"
     ]
    },
    {
     "name": "stderr",
     "output_type": "stream",
     "text": [
      "\r",
      " 22%|███████▌                          | 6/27 [00:23<01:26,  4.13s/it]"
     ]
    },
    {
     "name": "stdout",
     "output_type": "stream",
     "text": [
      "Draw\n",
      "Gen 1:   Here is a step-by-step instruction on how to approach the task without referencing any specifics:\n",
      "\n",
      "1. Carefully examine the overall goal or objective presented. Identify the key elements that must be accomplished.\n",
      "\n",
      "2. Break the task down into a series of individual steps or\n",
      "Gen 2:   Here is a step-by-step instruction on how to solve the task without mentioning any content from the provided context:\n",
      "\n",
      "1. Carefully analyze the overall situation to understand the core issue. Look for any implicit or explicit clues about the nature of the problem.\n",
      "\n",
      "2. Brainstorm\n",
      "----------\n"
     ]
    },
    {
     "name": "stderr",
     "output_type": "stream",
     "text": [
      "\r",
      " 26%|████████▊                         | 7/27 [00:27<01:19,  3.99s/it]"
     ]
    },
    {
     "name": "stdout",
     "output_type": "stream",
     "text": [
      "Draw\n",
      "Gen 1:   Here is a one paragraph instruction on how to solve the task without mentioning any content from the provided context:\n",
      "\n",
      "To successfully complete the objective, it is important to carefully analyze the situation and think creatively about alternative approaches. Consider all possible angles and perspectives without assumptions to gain novel insights. With an\n",
      "Gen 2:   Here is a one paragraph instruction on how to solve the task without mentioning any context:\n",
      "\n",
      "To complete the task, one should first analyze what the final goal is and then work backwards to determine the individual steps needed to achieve it. Consider what information or resources are required at each process and where they\n",
      "----------\n"
     ]
    },
    {
     "name": "stderr",
     "output_type": "stream",
     "text": [
      "\r",
      " 30%|██████████                        | 8/27 [00:32<01:20,  4.26s/it]"
     ]
    },
    {
     "name": "stdout",
     "output_type": "stream",
     "text": [
      "Draw\n",
      "Gen 1:   Here is a one sentence instruction on how to solve the task without mentioning any content from the provided context: Think through the scenario's implications to craft a novel solution that addresses the underlying need in an analogous manner.\n",
      "Gen 2:   Here is a one sentence instruction for the task without mentioning any context:\n",
      "\n",
      "Follow the step-by-step process required to accurately complete the objective.\n",
      "----------\n"
     ]
    },
    {
     "name": "stderr",
     "output_type": "stream",
     "text": [
      "\r",
      " 33%|███████████▎                      | 9/27 [00:37<01:21,  4.51s/it]"
     ]
    },
    {
     "name": "stdout",
     "output_type": "stream",
     "text": [
      "Draw\n",
      "Gen 1:   Here is a step-by-step instruction on how to solve the task without mentioning any content from the provided context:\n",
      "\n",
      "1. Carefully analyze the scenario presented and understand what the overall goal or challenge is. \n",
      "\n",
      "2. Break down the goal into a series of smaller, more manage\n",
      "Gen 2:   Here is a step-by-step instruction for the task without mentioning any context:\n",
      "\n",
      "1. Clearly understand what the task is asking you to do. Make sure you comprehend the overall goal.\n",
      "\n",
      "2. Break down the task into smaller and more manageable steps. Identify the key\n",
      "----------\n"
     ]
    },
    {
     "name": "stderr",
     "output_type": "stream",
     "text": [
      "\r",
      " 37%|████████████▏                    | 10/27 [00:42<01:18,  4.64s/it]"
     ]
    },
    {
     "name": "stdout",
     "output_type": "stream",
     "text": [
      "Draw\n",
      "Gen 1:   Here is a one paragraph instruction on how to solve the given task without mentioning any context:\n",
      "\n",
      "To successfully complete the task, one should first analyze what the final goal is and then carefully consider the individual steps needed to arrive at the desired outcome in a logical sequence. It is important to break the\n",
      "Gen 2:   Here is a one paragraph instruction on how to solve the task without mentioning any specifics:\n",
      "\n",
      "To successfully complete the task at hand, one must first carefully examine all available information and details provided, without making any assumptions. It is important to understand the full scope of what is being asked before determining the\n",
      "----------\n"
     ]
    },
    {
     "name": "stderr",
     "output_type": "stream",
     "text": [
      "\r",
      " 41%|█████████████▍                   | 11/27 [00:52<01:40,  6.27s/it]"
     ]
    },
    {
     "name": "stdout",
     "output_type": "stream",
     "text": [
      "Draw\n",
      "Gen 1:   Here is a one sentence instruction for the task without mentioning any context:\n",
      "\n",
      "Follow the step-by-step process clearly laid out for successfully completing the objective.\n",
      "Gen 2:   Here is a one sentence instruction on how to solve the task without mentioning any specifics: Approach the situation by carefully considering all factors involved in a respectful manner to find a mutually agreeable resolution.\n",
      "----------\n"
     ]
    },
    {
     "name": "stderr",
     "output_type": "stream",
     "text": [
      "\r",
      " 44%|██████████████▋                  | 12/27 [00:57<01:29,  5.98s/it]"
     ]
    },
    {
     "name": "stdout",
     "output_type": "stream",
     "text": [
      "Draw\n",
      "Gen 1:   Here is a step-by-step instruction for the task without mentioning any context:\n",
      "\n",
      "1. Clearly understand what the task is asking you to do. Make sure you can explain it in your own words.\n",
      "\n",
      "2. Break the task down into smaller, more manageable steps. Ident\n",
      "Gen 2:   Here is a step-by-step instruction on how to solve the given task without mentioning any specifics:\n",
      "\n",
      "1. Carefully examine the task presented to identify the key elements involved and the overall goal or objective. Note any relevant details that help define the scope or parameters.\n",
      "\n",
      "2.\n",
      "----------\n"
     ]
    },
    {
     "name": "stderr",
     "output_type": "stream",
     "text": [
      "\r",
      " 48%|███████████████▉                 | 13/27 [01:03<01:25,  6.11s/it]"
     ]
    },
    {
     "name": "stdout",
     "output_type": "stream",
     "text": [
      "Draw\n",
      "Gen 1:   Here is a one paragraph instruction on how to solve the task without mentioning any specifics:\n",
      "\n",
      "To successfully complete the task at hand, one must first carefully examine all available information and details provided, without making any assumptions. It is important to understand the full scope of what is being asked before determining the\n",
      "Gen 2:   Here is a one paragraph instruction on how to solve the task without mentioning any context:\n",
      "\n",
      "To successfully complete the task at hand, one must first analyze what the core problem or challenge is based on any implications that can be understood without direct statements. Next, consider different ways of conceptualizing a solution\n",
      "----------\n"
     ]
    },
    {
     "name": "stderr",
     "output_type": "stream",
     "text": [
      "\r",
      " 52%|█████████████████                | 14/27 [01:10<01:21,  6.25s/it]"
     ]
    },
    {
     "name": "stdout",
     "output_type": "stream",
     "text": [
      "Draw\n",
      "Gen 1:   Here is a one sentence instruction on how to solve the task without mentioning any specifics: Approach the situation by carefully considering all factors involved in a respectful manner to find a mutually agreeable resolution.\n",
      "Gen 2:   Here is a one sentence instruction on how to solve the task without mentioning context:\n",
      "\n",
      "Determine the best path forward by carefully considering all aspects of the situation.\n",
      "----------\n"
     ]
    },
    {
     "name": "stderr",
     "output_type": "stream",
     "text": [
      "\r",
      " 56%|██████████████████▎              | 15/27 [01:13<01:04,  5.35s/it]"
     ]
    },
    {
     "name": "stdout",
     "output_type": "stream",
     "text": [
      "Draw\n",
      "Gen 1:   Here is a step-by-step instruction on how to solve the given task without mentioning any specifics:\n",
      "\n",
      "1. Carefully examine the task presented to identify the key elements involved and the overall goal or objective. Note any relevant details that help define the scope or parameters.\n",
      "\n",
      "2.\n",
      "Gen 2:   Here is a step-by-step instruction for the task without referencing any context:\n",
      "\n",
      "1. Clearly identify the problem presented. Understand what issue needs to be addressed without making assumptions.\n",
      "\n",
      "2. Break down the problem into smaller components to make it more manageable. Look at\n",
      "----------\n"
     ]
    },
    {
     "name": "stderr",
     "output_type": "stream",
     "text": [
      "\r",
      " 59%|███████████████████▌             | 16/27 [01:18<00:58,  5.31s/it]"
     ]
    },
    {
     "name": "stdout",
     "output_type": "stream",
     "text": [
      "Draw\n",
      "Gen 1:   Here is a one paragraph instruction on how to solve the task without mentioning any context:\n",
      "\n",
      "To successfully complete the task at hand, one must first analyze what the core problem or challenge is based on any implications that can be understood. With a clear understanding of the underlying issue, consider what logical steps\n",
      "Gen 2:   Here is a one paragraph instruction on how to solve the task without mentioning any content from the context:\n",
      "\n",
      "To successfully complete the objective, one must first gain a comprehensive overview of the scenario by identifying any pertinent details that establish the parameters and goal. Next, use logical reasoning and creativity to formulate\n",
      "----------\n"
     ]
    },
    {
     "name": "stderr",
     "output_type": "stream",
     "text": [
      "\r",
      " 63%|████████████████████▊            | 17/27 [01:24<00:54,  5.45s/it]"
     ]
    },
    {
     "name": "stdout",
     "output_type": "stream",
     "text": [
      "Draw\n",
      "Gen 1:   Here is a one sentence instruction on how to solve the task without mentioning context:\n",
      "\n",
      "Determine the best approach by carefully considering the situation objectively and choosing a course of action most likely to achieve the desired outcome.\n",
      "Gen 2:   Here is a one sentence instruction for the task without mentioning any context:\n",
      "\n",
      "Observe the scenario described to determine the underlying issue, then formulate an original solution composed in a similar style to the example given but using your own constructed response rather than reusing provided information.\n",
      "----------\n"
     ]
    },
    {
     "name": "stderr",
     "output_type": "stream",
     "text": [
      "\r",
      " 67%|██████████████████████           | 18/27 [01:29<00:46,  5.12s/it]"
     ]
    },
    {
     "name": "stdout",
     "output_type": "stream",
     "text": [
      "Draw\n",
      "Gen 1:   Here is a step-by-step instruction for the task without mentioning any context:\n",
      "\n",
      "1. Evaluate the overall goal or desired outcome presented. Break it down into clear objectives if not already explicit.\n",
      "\n",
      "2. Brainstorm possible approaches or strategies that could be applied to achieve the goal.\n",
      "Gen 2:   Here is a step-by-step instruction for the task without mentioning any context:\n",
      "\n",
      "1. Clearly identify the goal or desired end result. Understand exactly what needs to be achieved. \n",
      "\n",
      "2. Break down the process into individual steps or actions. Consider the sequence of events or progression\n",
      "----------\n"
     ]
    },
    {
     "name": "stderr",
     "output_type": "stream",
     "text": [
      "\r",
      " 70%|███████████████████████▏         | 19/27 [01:35<00:43,  5.48s/it]"
     ]
    },
    {
     "name": "stdout",
     "output_type": "stream",
     "text": [
      "Draw\n",
      "Gen 1:   Here is a one paragraph instruction on how to solve the task without mentioning any content from the context:\n",
      "\n",
      "To successfully complete the objective, one must first analyze the overall goal and any implicit or explicit parameters provided. With the end result in mind, consider the available tools, resources and individual strengths in\n",
      "Gen 2:   Here is a one paragraph instruction on how to solve the task without mentioning any specifics from the provided context:\n",
      "\n",
      "To successfully complete the task at hand, one must first carefully analyze the overall objective and any implicit or explicit guidelines that may have been established. With the goal and boundaries firmly in mind,\n",
      "----------\n"
     ]
    },
    {
     "name": "stderr",
     "output_type": "stream",
     "text": [
      "\r",
      " 74%|████████████████████████▍        | 20/27 [01:39<00:36,  5.19s/it]"
     ]
    },
    {
     "name": "stdout",
     "output_type": "stream",
     "text": [
      "Draw\n",
      "Gen 1:   Here is a one sentence instruction for how to solve the implied task without referencing any context:\n",
      "\n",
      "\"Draw upon your understanding of the full circumstances to craft an original solution that addresses the core issue in a similar fashion.\"\n",
      "Gen 2:   Here is a one sentence instruction on how to solve the task without mentioning any context:\n",
      "\n",
      "Break down the overall goal into a series of logical steps, assign responsibilities and a timeline, then monitor progress and provide feedback to ensure successful completion.\n",
      "----------\n"
     ]
    },
    {
     "name": "stderr",
     "output_type": "stream",
     "text": [
      "\r",
      " 78%|█████████████████████████▋       | 21/27 [01:43<00:27,  4.63s/it]"
     ]
    },
    {
     "name": "stdout",
     "output_type": "stream",
     "text": [
      "Winner: Carefully analyze both the question and context together to achieve a holistic understanding of the situation. Review the context for signs that may aid in devising a self-formulated solution, while avoiding direct reuse of content. Respond with an original answer composed addressing the core issue implied, matching similarly in spirit and structure to the example.\n",
      "Gen 1:   Here is a step-by-step instruction for the task without mentioning any context:\n",
      "\n",
      "1. Clearly identify the goal or desired end result. Understand exactly what needs to be achieved. \n",
      "\n",
      "2. Break down the process into discrete individual steps or actions. Consider the sequence and dependencies between\n",
      "Gen 2:   Here is a step-by-step instruction for the task without mentioning any context:\n",
      "\n",
      "1. Gather the necessary materials. You will need items that can help you systematically work through the problem.\n",
      "\n",
      "2. Carefully examine the overall situation. Look at any relationships, patterns or underlying structures\n",
      "----------\n"
     ]
    },
    {
     "name": "stderr",
     "output_type": "stream",
     "text": [
      "\r",
      " 81%|██████████████████████████▉      | 22/27 [01:47<00:23,  4.67s/it]"
     ]
    },
    {
     "name": "stdout",
     "output_type": "stream",
     "text": [
      "Draw\n",
      "Gen 1:   Here is a one paragraph instruction on how to solve the task without mentioning any specifics from the provided context:\n",
      "\n",
      "To successfully complete the task at hand, one must first carefully analyze the overall objective and any implicit or explicit guidelines that may have been established. With the goal and boundaries firmly in mind,\n",
      "Gen 2:   Here is a one paragraph instruction on how to solve the task without mentioning any context:\n",
      "\n",
      "To successfully complete the task at hand, one should break down the overall goal into a series of individual steps that can be tackled in a logical sequence. It is important to first gain a full understanding of\n",
      "----------\n"
     ]
    },
    {
     "name": "stderr",
     "output_type": "stream",
     "text": [
      "\r",
      " 85%|████████████████████████████     | 23/27 [01:54<00:21,  5.26s/it]"
     ]
    },
    {
     "name": "stdout",
     "output_type": "stream",
     "text": [
      "Winner: Study the question and provided context carefully to gain a complete grasp of the scenario described. Inspect the context for suggestions that could assist in strategizing a reply, while not replicating specifics. Respond with a freshly generated output that effectively handles the central issue referred to, following a comparable approach and format to the example given.\n",
      "Gen 1:   Here is a one sentence instruction on how to solve the task without mentioning any context:\n",
      "\n",
      "Break down the overall goal into a series of logical steps, assign responsibilities and a timeline, then monitor progress and provide feedback to ensure successful completion.\n",
      "Gen 2:   Here is a one sentence instruction for the task without mentioning context:\n",
      "\n",
      "Examine the situation objectively, thoughtfully consider all aspects to understand the core issue, and respond constructively in a way that addresses the heart of the matter while respecting guidelines.\n",
      "----------\n"
     ]
    },
    {
     "name": "stderr",
     "output_type": "stream",
     "text": [
      "\r",
      " 89%|█████████████████████████████▎   | 24/27 [01:59<00:15,  5.07s/it]"
     ]
    },
    {
     "name": "stdout",
     "output_type": "stream",
     "text": [
      "Draw\n",
      "Gen 1:   Here is a step-by-step instruction for the task without mentioning any context:\n",
      "\n",
      "1. Gather the necessary materials. You will need items that can be used to complete the goal.\n",
      "\n",
      "2. Prepare the work area. Make sure your space is clear and organized so you have room\n",
      "Gen 2:   Here is a step-by-step instruction for the task without referencing any context details:\n",
      "\n",
      "1. Carefully examine the situation presented and identify the core issue needing addressed.\n",
      "\n",
      "2. Consider any implicit or explicit guidance that the circumstances provide regarding an effective solution approach. \n",
      "\n",
      "3\n",
      "----------\n"
     ]
    },
    {
     "name": "stderr",
     "output_type": "stream",
     "text": [
      "\r",
      " 93%|██████████████████████████████▌  | 25/27 [02:04<00:10,  5.07s/it]"
     ]
    },
    {
     "name": "stdout",
     "output_type": "stream",
     "text": [
      "Draw\n",
      "Gen 1:   Here is a one paragraph instruction on how to solve the task without mentioning any context:\n",
      "\n",
      "To successfully complete the task at hand, one must first carefully examine what is being asked to be done. It is important to understand the overall goal or purpose before taking any action. Once the objective is clear\n",
      "Gen 2:   Here is a one paragraph instruction on how to solve the task without mentioning any context:\n",
      "\n",
      "To successfully complete the task at hand, one must first carefully examine the overall objective and any implicit or explicit guidelines provided. It is important to understand what is being asked for without relying on specific details mentioned.\n",
      "----------\n"
     ]
    },
    {
     "name": "stderr",
     "output_type": "stream",
     "text": [
      "\r",
      " 96%|███████████████████████████████▊ | 26/27 [02:10<00:05,  5.25s/it]"
     ]
    },
    {
     "name": "stdout",
     "output_type": "stream",
     "text": [
      "Draw\n",
      "Gen 1:   Here is a one sentence instruction for the task without mentioning context:\n",
      "\n",
      "Proceed thoughtfully by analyzing all available information to discern the key issue and formulating a respectful, helpful response tailored to the situation rather than duplicating examples.\n",
      "Gen 2:   Here is a one sentence instruction for the task without mentioning any context:\n",
      "\n",
      "Focus on the underlying issue and provide a tailored, original response that constructively moves in a positive direction.\n",
      "----------\n"
     ]
    },
    {
     "name": "stderr",
     "output_type": "stream",
     "text": [
      "\r",
      "100%|█████████████████████████████████| 27/27 [02:15<00:00,  5.44s/it]"
     ]
    },
    {
     "name": "stdout",
     "output_type": "stream",
     "text": [
      "Draw\n",
      "Gen 1:   Here is a step-by-step instruction for the task without referencing any context details:\n",
      "\n",
      "1. Carefully examine the situation presented and identify the core issue needing addressed.\n",
      "\n",
      "2. Consider any implicit or explicit guidance that the circumstances provide regarding an effective solution approach. \n",
      "\n",
      "3\n",
      "Gen 2:   Here is a step-by-step instruction for the task without mentioning any context:\n",
      "\n",
      "1. Clearly identify the overall goal or objective that needs to be achieved. Make sure there is a shared understanding of what successful completion looks like.\n",
      "\n",
      "2. Break down the large goal into smaller,\n",
      "----------\n"
     ]
    },
    {
     "name": "stderr",
     "output_type": "stream",
     "text": [
      "\r",
      "100%|█████████████████████████████████| 27/27 [02:20<00:00,  5.22s/it]"
     ]
    },
    {
     "name": "stdout",
     "output_type": "stream",
     "text": [
      "Winner: Thoroughly analyze the question and context information provided to achieve a holistic understanding of the complete scenario. Study the context for clues on how best to address the issue implied, while not replicating verbatim. Respond with an original, self-generated output that resolves the core matter in a way consistent with the approach and format demonstrated by the example output.\n"
     ]
    },
    {
     "name": "stderr",
     "output_type": "stream",
     "text": [
      "\n"
     ]
    },
    {
     "name": "stdout",
     "output_type": "stream",
     "text": [
      "9\n"
     ]
    },
    {
     "name": "stderr",
     "output_type": "stream",
     "text": [
      "\r",
      "  0%|                                          | 0/27 [00:00<?, ?it/s]"
     ]
    },
    {
     "name": "stdout",
     "output_type": "stream",
     "text": [
      "Gen 1:   Here is a one paragraph instruction on how to solve the task without mentioning any content from the context:\n",
      "\n",
      "To complete the task, break it down into individual steps. First, examine the given information to understand what is provided and the overall goal or problem presented. Look for any important details, relationships\n",
      "Gen 2:   Here is a one paragraph instruction on how to solve the task without mentioning any content from the context:\n",
      "\n",
      "To successfully complete the task at hand, one must first carefully analyze what the overall goal is and understand exactly what is being asked. It is important to break the task down into smaller, more\n",
      "----------\n"
     ]
    },
    {
     "name": "stderr",
     "output_type": "stream",
     "text": [
      "\r",
      "  7%|██▌                               | 2/27 [00:05<01:06,  2.67s/it]"
     ]
    },
    {
     "name": "stdout",
     "output_type": "stream",
     "text": [
      "Draw\n",
      "Gen 1:   Here is a one sentence instruction for the task without mentioning any content from the context: Follow the steps clearly described to complete the objective.\n",
      "Gen 2:   Here is a one sentence instruction for the task without referencing the context:\n",
      "\n",
      "Break down the overall problem into clear steps, assign responsibilities and a timeline, then bring all elements together to reach a satisfactory conclusion.\n",
      "----------\n"
     ]
    },
    {
     "name": "stderr",
     "output_type": "stream",
     "text": [
      "\r",
      " 11%|███▊                              | 3/27 [00:08<01:11,  2.99s/it]"
     ]
    },
    {
     "name": "stdout",
     "output_type": "stream",
     "text": [
      "Draw\n",
      "Gen 1:   Here is a step-by-step instruction for the task without mentioning any content from the context:\n",
      "\n",
      "1. Clearly identify the goal or objective that needs to be achieved through solving the task.\n",
      "\n",
      "2. Break down the task into specific steps or actions that need to be taken to work\n",
      "Gen 2:   Here is a step-by-step instruction for the task without mentioning any content from the context:\n",
      "\n",
      "1. Clearly define the goal or objective to be achieved. Make sure it is specific and measurable.\n",
      "\n",
      "2. Break down the goal into smaller, more manageable steps. The steps\n",
      "----------\n"
     ]
    },
    {
     "name": "stderr",
     "output_type": "stream",
     "text": [
      "\r",
      " 15%|█████                             | 4/27 [00:15<01:37,  4.25s/it]"
     ]
    },
    {
     "name": "stdout",
     "output_type": "stream",
     "text": [
      "Draw\n",
      "Gen 1:   Here is a one paragraph instruction on how to solve the task without mentioning any content from the context:\n",
      "\n",
      "To successfully complete the task, one must break it down into clear sequential steps. First, assess what the overall goal or purpose is to determine the criteria for a good solution. Then, identify\n",
      "Gen 2:   Here is a one paragraph instruction on how to solve the task without mentioning any content from the context:\n",
      "\n",
      "To complete the task, one should first analyze what the overall goal or objective is based on any available details provided. Next, break down the goal into smaller, more manageable steps that need\n",
      "----------\n"
     ]
    },
    {
     "name": "stderr",
     "output_type": "stream",
     "text": [
      "\r",
      " 19%|██████▎                           | 5/27 [00:19<01:35,  4.33s/it]"
     ]
    },
    {
     "name": "stdout",
     "output_type": "stream",
     "text": [
      "Draw\n",
      "Gen 1:   Here is a one sentence instruction for the task without referencing the context:\n",
      "\n",
      "Break down the challenge into clear steps, assign responsibilities and establish expectations to work as a cohesive unit towards a solution.\n",
      "Gen 2:   Here is a one sentence instruction for the task without mentioning any content from the context:\n",
      "\n",
      "Observe the situation carefully, think critically about possible approaches, and choose the best path forward based on your judgment.\n",
      "----------\n"
     ]
    },
    {
     "name": "stderr",
     "output_type": "stream",
     "text": [
      "\r",
      " 22%|███████▌                          | 6/27 [00:24<01:31,  4.37s/it]"
     ]
    },
    {
     "name": "stdout",
     "output_type": "stream",
     "text": [
      "Draw\n",
      "Gen 1:   Here is a step-by-step instruction for the task without mentioning any content from the context:\n",
      "\n",
      "1. Clearly define the goal or objective to be achieved. Make sure it is specific and measurable.\n",
      "\n",
      "2. Break down the goal into smaller, more manageable steps. The steps\n",
      "Gen 2:   Here is a step-by-step instruction for the task without mentioning any content from the context:\n",
      "\n",
      "1. Clearly identify the goal or objective that needs to be achieved through solving the task. Make sure you have a clear understanding of what successful completion of the task would look like. \n",
      "----------\n"
     ]
    },
    {
     "name": "stderr",
     "output_type": "stream",
     "text": [
      "\r",
      " 26%|████████▊                         | 7/27 [00:29<01:33,  4.69s/it]"
     ]
    },
    {
     "name": "stdout",
     "output_type": "stream",
     "text": [
      "Draw\n",
      "Gen 1:   Here is a one paragraph instruction on how to solve the task without mentioning any content from the context:\n",
      "\n",
      "To complete the task, one should first analyze what the overall goal or objective is based on any available details provided. Next, break down the goal into smaller, more manageable steps that need\n",
      "Gen 2:   Here is a one paragraph instruction on how to solve the task without mentioning any content from the prompt:\n",
      "\n",
      "Carefully analyze what the core goal of the task entails. Break it down into a series of logical steps that need to be taken to achieve the desired outcome. For each step, provide\n",
      "----------\n"
     ]
    },
    {
     "name": "stderr",
     "output_type": "stream",
     "text": [
      "\r",
      " 30%|██████████                        | 8/27 [00:33<01:27,  4.60s/it]"
     ]
    },
    {
     "name": "stdout",
     "output_type": "stream",
     "text": [
      "Draw\n",
      "Gen 1:   Here is a one sentence instruction for the task without mentioning any content from the context:\n",
      "\n",
      "Observe the situation carefully, think creatively to find a novel solution, and take decisive action while considering any impacts.\n",
      "Gen 2:   Here is a one sentence instruction without restating the context:\n",
      "\n",
      "Focus on the core issue, think creatively to find an original answer, and express your understanding concisely.\n",
      "----------\n"
     ]
    },
    {
     "name": "stderr",
     "output_type": "stream",
     "text": [
      "\r",
      " 33%|███████████▎                      | 9/27 [00:36<01:13,  4.06s/it]"
     ]
    },
    {
     "name": "stdout",
     "output_type": "stream",
     "text": [
      "Draw\n",
      "Gen 1:   Here is a step-by-step instruction for the task without mentioning any content from the context:\n",
      "\n",
      "1. Clearly identify the goal or objective that needs to be achieved through solving the task. Make sure you have a clear understanding of what successful completion of the task would look like.\n",
      "Gen 2:   Here is a step-by-step instruction for the task without mentioning any context:\n",
      "\n",
      "1. Identify the key elements involved in the task. Determine what inputs are given and what output is expected. \n",
      "\n",
      "2. Break down the overall task into smaller sub-tasks or steps. Figure\n",
      "----------\n"
     ]
    },
    {
     "name": "stderr",
     "output_type": "stream",
     "text": [
      "\r",
      " 37%|████████████▏                    | 10/27 [00:41<01:13,  4.33s/it]"
     ]
    },
    {
     "name": "stdout",
     "output_type": "stream",
     "text": [
      "Draw\n",
      "Gen 1:   Here is a one paragraph instruction on how to solve the task without mentioning any content from the prompt:\n",
      "\n",
      "Carefully analyze what the core goal of the task entails. Break it down into a series of logical steps that need to be taken to achieve the desired outcome. For each step, provide\n",
      "Gen 2:   Here is a one paragraph instruction on how to solve the task without mentioning any context:\n",
      "\n",
      "Carefully examine the task presented and break it down into the individual steps required. For each step, determine the operations needed to complete it. Consider the order the steps must be performed in and whether any prerequisites\n",
      "----------\n"
     ]
    },
    {
     "name": "stderr",
     "output_type": "stream",
     "text": [
      "\r",
      " 41%|█████████████▍                   | 11/27 [00:47<01:14,  4.68s/it]"
     ]
    },
    {
     "name": "stdout",
     "output_type": "stream",
     "text": [
      "Draw\n",
      "Gen 1:   Here is a one sentence instruction without restating the context:\n",
      "\n",
      "Focus on the core issue, think creatively to find an original answer, and communicate your understanding concisely.\n",
      "Gen 2:   Here is a one sentence instruction without mentioning any context:\n",
      "\n",
      "Follow the step-by-step process that leads to achieving the desired outcome in a clear and effective manner.\n",
      "----------\n"
     ]
    },
    {
     "name": "stderr",
     "output_type": "stream",
     "text": [
      "\r",
      " 44%|██████████████▋                  | 12/27 [00:51<01:08,  4.58s/it]"
     ]
    },
    {
     "name": "stdout",
     "output_type": "stream",
     "text": [
      "Draw\n",
      "Gen 1:   Here is a step-by-step instruction for the task without mentioning any context:\n",
      "\n",
      "1. Identify the key elements involved in the task. Determine what inputs or starting conditions are given as well as the desired output.\n",
      "\n",
      "2. Break down the overall task into smaller individual steps or\n",
      "Gen 2:   Here is a step-by-step instruction for the task without mentioning any context:\n",
      "\n",
      "1. Clearly identify the overall goal or objective that needs to be accomplished. Make sure you fully understand what result or end state is expected.\n",
      "\n",
      "2. Break down the task into specific steps or actions\n",
      "----------\n"
     ]
    },
    {
     "name": "stderr",
     "output_type": "stream",
     "text": [
      "\r",
      " 48%|███████████████▉                 | 13/27 [00:56<01:05,  4.65s/it]"
     ]
    },
    {
     "name": "stdout",
     "output_type": "stream",
     "text": [
      "Winner: Focus on understanding the core problem described by the question and context, then apply your knowledge and abilities to provide an original, self-generated response that still accurately resolves the question.\n",
      "Gen 1:   Here is a one paragraph instruction on how to solve the task without mentioning any context:\n",
      "\n",
      "Carefully examine the task presented and break it down into the individual steps required. For each step, determine the operations needed to complete it. Consider the order the steps must be performed in and whether any prerequisites\n",
      "Gen 2:   Here is a one paragraph instruction on how to solve the task without mentioning any context:\n",
      "\n",
      "To complete the task, break it down into discrete steps. First, assess what the overall goal or purpose is to determine the criteria for a successful outcome. Then, analyze the individual elements and consider how they\n",
      "----------\n"
     ]
    },
    {
     "name": "stderr",
     "output_type": "stream",
     "text": [
      "\r",
      " 52%|█████████████████                | 14/27 [01:00<00:56,  4.38s/it]"
     ]
    },
    {
     "name": "stdout",
     "output_type": "stream",
     "text": [
      "Draw\n",
      "Gen 1:   Here is a one sentence instruction without mentioning any context:\n",
      "\n",
      "Follow the step-by-step process that logically connects the beginning to the end.\n",
      "Gen 2:   Here is a one sentence instruction on how to solve the task without mentioning any context:\n",
      "\n",
      "\"Examine the available information, infer the underlying issue, propose an original solution, and communicate your conclusion concisely.\"\n",
      "----------\n"
     ]
    },
    {
     "name": "stderr",
     "output_type": "stream",
     "text": [
      "\r",
      " 56%|██████████████████▎              | 15/27 [01:03<00:49,  4.10s/it]"
     ]
    },
    {
     "name": "stdout",
     "output_type": "stream",
     "text": [
      "Draw\n",
      "Gen 1:   Here is a step-by-step instruction for the task without mentioning any context:\n",
      "\n",
      "1. Clearly identify the overall goal or objective that needs to be accomplished. Make sure you fully understand what result or end state is expected.\n",
      "\n",
      "2. Break down the task into specific steps or actions\n",
      "Gen 2:   Here is a step-by-step instruction for the task without mentioning any context:\n",
      "\n",
      "1. Clearly identify the overall goal or objective to be achieved. Break it down into specific, well-defined sub-tasks or steps.\n",
      "\n",
      "2. Evaluate available tools, materials, technologies or other\n",
      "----------\n"
     ]
    },
    {
     "name": "stderr",
     "output_type": "stream",
     "text": [
      "\r",
      " 59%|███████████████████▌             | 16/27 [01:07<00:45,  4.14s/it]"
     ]
    },
    {
     "name": "stdout",
     "output_type": "stream",
     "text": [
      "Draw\n",
      "Gen 1:   Here is a one paragraph instruction on how to solve the task without mentioning any context:\n",
      "\n",
      "To complete the task, break it down into discrete steps. First, assess what the overall goal or objective is. Then analyze what specific actions or information is needed to achieve that goal. Once you understand the\n",
      "Gen 2:   Here is a one paragraph instruction on how to solve the task without mentioning any content from the context:\n",
      "\n",
      "To complete the task, break it down into discrete steps. First, analyze what the final outcome should look like to determine the individual parts that need to be done. Then, envision how to\n",
      "----------\n"
     ]
    },
    {
     "name": "stderr",
     "output_type": "stream",
     "text": [
      "\r",
      " 63%|████████████████████▊            | 17/27 [01:11<00:40,  4.10s/it]"
     ]
    },
    {
     "name": "stdout",
     "output_type": "stream",
     "text": [
      "Draw\n",
      "Gen 1:   Here is a one sentence instruction on how to solve the task without mentioning any context:\n",
      "\n",
      "\"Examine the available information, infer the underlying issue, propose an original solution, and provide a clear directive moving forward.\"\n",
      "Gen 2:   Here is a one sentence instruction for the task without referencing the context:\n",
      "\n",
      "Figure out the steps needed to accurately complete the objective.\n",
      "----------\n"
     ]
    },
    {
     "name": "stderr",
     "output_type": "stream",
     "text": [
      "\r",
      " 67%|██████████████████████           | 18/27 [01:15<00:36,  4.05s/it]"
     ]
    },
    {
     "name": "stdout",
     "output_type": "stream",
     "text": [
      "Draw\n",
      "Gen 1:   Here is a step-by-step instruction for the task without mentioning any context:\n",
      "\n",
      "1. Clearly identify the overall goal or objective to be achieved. Break it down into specific, well-defined steps if needed.\n",
      "\n",
      "2. Assess what is already known or understood about the task\n",
      "Gen 2:   Here is a step-by-step instruction for how to solve the given task without mentioning any context:\n",
      "\n",
      "1. Carefully examine the task presented and identify the key elements that need to be completed. Break the overall task down into discrete steps or components.\n",
      "\n",
      "2. For each step\n",
      "----------\n"
     ]
    },
    {
     "name": "stderr",
     "output_type": "stream",
     "text": [
      "\r",
      " 70%|███████████████████████▏         | 19/27 [01:19<00:32,  4.08s/it]"
     ]
    },
    {
     "name": "stdout",
     "output_type": "stream",
     "text": [
      "Draw\n",
      "Gen 1:   Here is a one paragraph instruction on how to solve the task without mentioning any content from the context:\n",
      "\n",
      "To complete the task, break it down into discrete steps. First, analyze what the final outcome should look like to determine the individual parts that need to be done. Then, envision how to\n",
      "Gen 2:   Here is a one paragraph instruction on how to solve the task without mentioning any content from the context:\n",
      "\n",
      "To complete the task, one should break it down into discrete steps and tackle each step in a logical sequence. First, analyze what the final outcome should look like to determine the individual pieces that\n",
      "----------\n"
     ]
    },
    {
     "name": "stderr",
     "output_type": "stream",
     "text": [
      "\r",
      " 74%|████████████████████████▍        | 20/27 [01:23<00:26,  3.86s/it]"
     ]
    },
    {
     "name": "stdout",
     "output_type": "stream",
     "text": [
      "Draw\n",
      "Gen 1:   Here is a one sentence instruction for the task without mentioning any context:\n",
      "\n",
      "Observe the situation carefully, think through the possible approaches and their consequences, then carry out the best solution.\n",
      "Gen 2:   Here is a one sentence instruction for the task without mentioning any content from the context:\n",
      "\n",
      "Observe the situation carefully, think creatively to understand the heart of the matter, then communicate an original perspective to address the essence of the issue.\n",
      "----------\n"
     ]
    },
    {
     "name": "stderr",
     "output_type": "stream",
     "text": [
      "\r",
      " 78%|█████████████████████████▋       | 21/27 [01:27<00:23,  3.86s/it]"
     ]
    },
    {
     "name": "stdout",
     "output_type": "stream",
     "text": [
      "Winner: Objectively consider the question and context, discern the crux of the matter, then craft an original, self-authored response that addresses the core of the issue without directly reusing content from the context.\n",
      "Gen 1:   Here is a step-by-step instruction for how to solve the given task without mentioning any context:\n",
      "\n",
      "1. Carefully examine the task presented and identify the key elements that need to be completed. Break the overall task down into discrete steps or components.\n",
      "\n",
      "2. For each step\n",
      "Gen 2:   Here is a step-by-step instruction for the task without mentioning any content from the context:\n",
      "\n",
      "1. Clearly define the goal or objective of the task. Make sure you have a full understanding of what exactly needs to be accomplished. \n",
      "\n",
      "2. Break down the task into specific steps\n",
      "----------\n"
     ]
    },
    {
     "name": "stderr",
     "output_type": "stream",
     "text": [
      "\r",
      " 81%|██████████████████████████▉      | 22/27 [01:30<00:19,  3.86s/it]"
     ]
    },
    {
     "name": "stdout",
     "output_type": "stream",
     "text": [
      "Draw\n",
      "Gen 1:   Here is a one paragraph instruction on how to solve the task without mentioning any content from the context:\n",
      "\n",
      "To complete the task, one should break it down into discrete steps and tackle each step in a logical sequence. First, analyze what the final outcome should look like to determine the individual pieces that\n",
      "Gen 2:   Here is a one paragraph instruction on how to solve the task without mentioning any content from the context:\n",
      "\n",
      "To complete the task, one should carefully analyze what the final goal is and then work systematically backwards to determine the discrete steps required to achieve it. Consider what is given, what can be derived\n",
      "----------\n"
     ]
    },
    {
     "name": "stderr",
     "output_type": "stream",
     "text": [
      "\r",
      " 85%|████████████████████████████     | 23/27 [01:35<00:15,  3.97s/it]"
     ]
    },
    {
     "name": "stdout",
     "output_type": "stream",
     "text": [
      "Draw\n",
      "Gen 1:   Here is a one sentence instruction for the task without mentioning any content from the context:\n",
      "\n",
      "Observe the situation carefully, think creatively to understand the heart of the matter, and provide guidance in your own words to help resolve the core issue.\n",
      "Gen 2:   Here is a one sentence instruction on how to solve the task without mentioning any content from the context:\n",
      "\n",
      "Determine the optimal approach by carefully analyzing the available information and relationships between elements.\n",
      "----------\n"
     ]
    },
    {
     "name": "stderr",
     "output_type": "stream",
     "text": [
      "\r",
      " 89%|█████████████████████████████▎   | 24/27 [01:41<00:13,  4.62s/it]"
     ]
    },
    {
     "name": "stdout",
     "output_type": "stream",
     "text": [
      "Draw\n",
      "Gen 1:   Here is a step-by-step instruction for the task without mentioning any content from the context:\n",
      "\n",
      "1. Clearly define the goal or objective of the task. Make sure you have a full understanding of what exactly needs to be accomplished. \n",
      "\n",
      "2. Break down the task into specific steps\n",
      "Gen 2:   Here is a step-by-step instruction for the task without mentioning any content from the context:\n",
      "\n",
      "1. Clearly identify the overall goal or objective that needs to be achieved. \n",
      "\n",
      "2. Break down the goal into a series of specific steps or actions that need to be taken to accomplish\n",
      "----------\n"
     ]
    },
    {
     "name": "stderr",
     "output_type": "stream",
     "text": [
      "\r",
      " 93%|██████████████████████████████▌  | 25/27 [01:46<00:09,  4.93s/it]"
     ]
    },
    {
     "name": "stdout",
     "output_type": "stream",
     "text": [
      "Draw\n",
      "Gen 1:   Here is a one paragraph instruction on how to solve the task without mentioning any content from the context:\n",
      "\n",
      "To complete the task, one should carefully analyze what the end goal is and then plan out the specific steps required to achieve that goal. Each step should logically follow from the previous one and build\n",
      "Gen 2:   Here is a one paragraph instruction on how to solve the task without mentioning any content from the context:\n",
      "\n",
      "To complete the task, break it down into discrete steps. First, analyze what the final outcome should look like to determine the individual parts that need to be done. Second, think through the\n",
      "----------\n"
     ]
    },
    {
     "name": "stderr",
     "output_type": "stream",
     "text": [
      "\r",
      " 96%|███████████████████████████████▊ | 26/27 [01:50<00:04,  4.46s/it]"
     ]
    },
    {
     "name": "stdout",
     "output_type": "stream",
     "text": [
      "Draw\n",
      "Gen 1:   Here is a one sentence instruction on how to solve the task without mentioning any content from the context:\n",
      "\n",
      "Determine the optimal approach by carefully analyzing the available information and relationships.\n",
      "Gen 2:   Here is a one sentence instruction for the task without mentioning any context:\n",
      "\n",
      "\"Examine the situation objectively, think through the various considerations required to complete it successfully, then formulate and carry out a plan of action.\"\n",
      "----------\n"
     ]
    },
    {
     "name": "stderr",
     "output_type": "stream",
     "text": [
      "\r",
      "100%|█████████████████████████████████| 27/27 [01:54<00:00,  4.36s/it]"
     ]
    },
    {
     "name": "stdout",
     "output_type": "stream",
     "text": [
      "Draw\n",
      "Gen 1:   Here is a step-by-step instruction for the task without mentioning any content from the context:\n",
      "\n",
      "1. Carefully analyze the requirements and goal of the task. Identify the key details that are relevant to finding a solution.\n",
      "\n",
      "2. Break down the task into specific steps or\n",
      "Gen 2:   Here is a step-by-step instruction for the task without mentioning any context:\n",
      "\n",
      "1. Clearly identify the overall goal or objective to achieve. Break it down into specific steps if it involves multiple sub-tasks.\n",
      "\n",
      "2. Evaluate what materials or resources you will need to complete each\n",
      "----------\n"
     ]
    },
    {
     "name": "stderr",
     "output_type": "stream",
     "text": [
      "\r",
      "100%|█████████████████████████████████| 27/27 [01:59<00:00,  4.42s/it]"
     ]
    },
    {
     "name": "stdout",
     "output_type": "stream",
     "text": [
      "Draw\n"
     ]
    },
    {
     "name": "stderr",
     "output_type": "stream",
     "text": [
      "\n"
     ]
    },
    {
     "name": "stdout",
     "output_type": "stream",
     "text": [
      "9\n"
     ]
    },
    {
     "name": "stderr",
     "output_type": "stream",
     "text": [
      "\r",
      "  0%|                                          | 0/27 [00:00<?, ?it/s]"
     ]
    },
    {
     "name": "stdout",
     "output_type": "stream",
     "text": [
      "Gen 1:   Here is a one paragraph instruction on how to solve the task without mentioning any content from the context:\n",
      "\n",
      "To complete the task, one should break it down into clear sequential steps. First, assess what the overall goal is and any requirements that must be met. Then analyze the individual components or elements\n",
      "Gen 2:   Here is a one paragraph response providing guidance on solving tasks without restating details from the prompt:\n",
      "\n",
      "When presented with a new challenge, it is important to first take time to fully understand what is being asked of you. Consider the overall goal or purpose behind the task rather than focusing on surface\n",
      "----------\n"
     ]
    },
    {
     "name": "stderr",
     "output_type": "stream",
     "text": [
      "\r",
      "  7%|██▌                               | 2/27 [00:04<00:50,  2.01s/it]"
     ]
    },
    {
     "name": "stdout",
     "output_type": "stream",
     "text": [
      "Draw\n",
      "Gen 1:   Here is a one sentence instruction for the task without referencing any context: Provide a concise step-by-step process for completing the objective.\n",
      "Gen 2:   Here is a multi-sentence response providing guidance on solving tasks without restating details:\n",
      "\n",
      "The key is to focus on the underlying goal or challenge presented, rather than the surface level specifics. Think about the essential steps or process involved in reaching a resolution, without copying verbatim from the example.\n",
      "----------\n"
     ]
    },
    {
     "name": "stderr",
     "output_type": "stream",
     "text": [
      "\r",
      " 11%|███▊                              | 3/27 [00:08<01:08,  2.84s/it]"
     ]
    },
    {
     "name": "stdout",
     "output_type": "stream",
     "text": [
      "Draw\n",
      "Gen 1:   Here is a step-by-step response to the prompt without referencing any specifics from the provided context:\n",
      "\n",
      "1. Read the details of the task carefully to understand what is being asked. \n",
      "\n",
      "2. Break down the task into individual steps or components that need to be addressed.\n",
      "Gen 2:   Here is a multi-sentence response providing general guidance on following step-by-step instructions without restating any specifics from the prompt:\n",
      "\n",
      "Carefully reviewing all available information is key to understanding what is being asked. Breaking the task down into discrete, sequential steps makes it seem less d\n",
      "----------\n"
     ]
    },
    {
     "name": "stderr",
     "output_type": "stream",
     "text": [
      "\r",
      " 15%|█████                             | 4/27 [00:12<01:20,  3.51s/it]"
     ]
    },
    {
     "name": "stdout",
     "output_type": "stream",
     "text": [
      "Draw\n",
      "Gen 1:   Here is a one paragraph response providing guidance on how to approach the task without restating details from the prompt:\n",
      "\n",
      "When presented with a new challenge, it is best to take a step back before diving in. Take time to carefully understand the overall goal and think through the different approaches or strategies\n",
      "Gen 2:   Here is a one paragraph instruction on how to solve the task without mentioning any content from the context:\n",
      "\n",
      "To successfully complete the task at hand, one must first carefully analyze what the core requirements and objectives are based on any implicit or explicit cues. It is then important to brainstorm and consider and\n",
      "----------\n"
     ]
    },
    {
     "name": "stderr",
     "output_type": "stream",
     "text": [
      "\r",
      " 19%|██████▎                           | 5/27 [00:16<01:16,  3.46s/it]"
     ]
    },
    {
     "name": "stdout",
     "output_type": "stream",
     "text": [
      "Draw\n",
      "Gen 1:   Here is a multi-sentence response providing guidance on solving tasks without restating details:\n",
      "\n",
      "The key is to focus on the underlying goal or challenge presented, rather than the surface level specifics. Think about the core steps or process one would generally take to deal with this type of situation successfully.\n",
      "Gen 2:   Here is a multi-paragraph instruction on how to address tasks in general:\n",
      "\n",
      "The first step is to carefully analyze what the task requires without focusing on superficial details. Take time to fully understand the core goal or challenge presented on an abstract level. This allows you to look past any surface elements and\n",
      "----------\n"
     ]
    },
    {
     "name": "stderr",
     "output_type": "stream",
     "text": [
      "\r",
      " 22%|███████▌                          | 6/27 [00:20<01:20,  3.82s/it]"
     ]
    },
    {
     "name": "stdout",
     "output_type": "stream",
     "text": [
      "Draw\n",
      "Gen 1:   Here is a multi-sentence response providing general guidance on following instructions without restating details from the prompt:\n",
      "\n",
      "Carefully review any directions or guidelines provided to fully understand the overall goal and constraints of the task. It is important to break the process down into discrete steps and consider the logical order\n",
      "Gen 2:   Here is a multi-paragraph instruction on how to address an underlying situation without referencing the specific context provided:\n",
      "\n",
      "The first step is to take a moment to carefully analyze the overall situation or task at hand. Look at it from a higher level without getting caught up in the details yet. Try\n",
      "----------\n"
     ]
    },
    {
     "name": "stderr",
     "output_type": "stream",
     "text": [
      "\r",
      " 26%|████████▊                         | 7/27 [00:24<01:18,  3.91s/it]"
     ]
    },
    {
     "name": "stdout",
     "output_type": "stream",
     "text": [
      "Draw\n",
      "Gen 1:   Here is a one paragraph instruction on how to solve the task without mentioning any content from the context:\n",
      "\n",
      "To successfully complete the task at hand, it is important to carefully analyze what the core requirements and end goal are. Break down the overall problem into smaller, more manageable steps. Consider what\n",
      "Gen 2:   Here is a one paragraph instruction on how to solve the task without mentioning any content from the context:\n",
      "\n",
      "To approach this problem, one should first gain a high-level understanding of the overall situation or scenario presented and identify the core challenge that needs to be addressed. With the central problem in mind\n",
      "----------\n"
     ]
    },
    {
     "name": "stderr",
     "output_type": "stream",
     "text": [
      "\r",
      " 30%|██████████                        | 8/27 [00:28<01:16,  4.01s/it]"
     ]
    },
    {
     "name": "stdout",
     "output_type": "stream",
     "text": [
      "Draw\n",
      "Gen 1:   Here is a multi-paragraph instruction on how to address tasks in general without referencing any specific details:\n",
      "\n",
      "The first step is to carefully analyze what the core goal or objective is that needs to be accomplished. It is important to look past any surface level details mentioned and distill the task down\n",
      "Gen 2:   Here is a one sentence instruction on how to solve the task without mentioning any content from the context:\n",
      "\n",
      "Break down the overall issue into its underlying parts, analyze how those parts relate to determine the core challenge, then develop a systematic approach addressing that challenge through a series of logical steps.\n",
      "----------\n"
     ]
    },
    {
     "name": "stderr",
     "output_type": "stream",
     "text": [
      "\r",
      " 33%|███████████▎                      | 9/27 [00:33<01:15,  4.20s/it]"
     ]
    },
    {
     "name": "stdout",
     "output_type": "stream",
     "text": [
      "Draw\n",
      "Gen 1:   Here is a multi-paragraph instruction on how to address an underlying situation without referencing the specific context provided:\n",
      "\n",
      "The first step is to take time to fully understand the nature of the situation or problem at hand. It is important to look at it from different perspectives to gain a well-rounded\n",
      "Gen 2:   Here is a step-by-step process without referencing any specifics from the provided context:\n",
      "\n",
      "1. Carefully examine the overall goal or challenge presented. Identify the key elements and underlying issue(s) to be addressed. \n",
      "\n",
      "2. Break the problem down into its component parts\n",
      "----------\n"
     ]
    },
    {
     "name": "stderr",
     "output_type": "stream",
     "text": [
      "\r",
      " 37%|████████████▏                    | 10/27 [00:37<01:09,  4.08s/it]"
     ]
    },
    {
     "name": "stdout",
     "output_type": "stream",
     "text": [
      "Draw\n",
      "Gen 1:   Here is a one paragraph instruction on how to solve the task without mentioning any content from the context:\n",
      "\n",
      "To tackle this problem, first gain a high-level understanding of the overall theme or challenge presented. Then, break down the theme into its core underlying issues or components. For each component,\n",
      "Gen 2:   Here is a one paragraph instruction on how to approach a similar task without referencing the original context:\n",
      "\n",
      "To begin, it is important to fully understand the overall goal or objective that needs to be accomplished. Next, analyze any implicit or explicit requirements, constraints, or guidelines that could impact a solution\n",
      "----------\n"
     ]
    },
    {
     "name": "stderr",
     "output_type": "stream",
     "text": [
      "\r",
      " 41%|█████████████▍                   | 11/27 [00:42<01:08,  4.27s/it]"
     ]
    },
    {
     "name": "stdout",
     "output_type": "stream",
     "text": [
      "Winner: Carefully review the question, context and output to comprehend the key points. Then formulate your own multi-sentence analysis of how to approach a similar scenario in broad strokes, while avoiding direct reuse of excerpts from the source information.\n",
      "Gen 1:   Here is a one sentence instruction on how to solve the task without mentioning any content from the context:\n",
      "\n",
      "Break down the overall issue into its underlying parts, analyze how those parts relate to determine the core challenge, then develop a systematic approach addressing that challenge through a series of logical steps.\n",
      "Gen 2:   Here is a one sentence instruction on how to approach the task without referencing any specifics: Draw upon your analytical skills to understand the core of what is being asked, and respond by outlining a general strategy in your own words based on similar past experiences or common sense.\n",
      "----------\n"
     ]
    },
    {
     "name": "stderr",
     "output_type": "stream",
     "text": [
      "\r",
      " 44%|██████████████▋                  | 12/27 [00:46<01:06,  4.43s/it]"
     ]
    },
    {
     "name": "stdout",
     "output_type": "stream",
     "text": [
      "Winner: Study the question, context and output thoroughly to deduce the fundamental problem or theme. Subsequently, generate a step-by-step process for tackling that problem or theme at a high level without replicating verbatim sections from the inputs.\n",
      "Gen 1:   Here is a step-by-step process without referencing any specifics from the provided context:\n",
      "\n",
      "1. Carefully examine the overall goal or challenge presented. Identify the key elements involved and their relationships.\n",
      "\n",
      "2. Break the problem down into its component parts or stages. Determine the\n",
      "Gen 2:   Here is a step-by-step approach without referencing the specific context:\n",
      "\n",
      "First, carefully examine the task at hand to identify the overall goal or objective. Look for any constraints, requirements or conditions that must be met. \n",
      "\n",
      "Second, brainstorm potential strategies or methods that could be\n",
      "----------\n"
     ]
    },
    {
     "name": "stderr",
     "output_type": "stream",
     "text": [
      "\r",
      " 48%|███████████████▉                 | 13/27 [00:50<01:00,  4.34s/it]"
     ]
    },
    {
     "name": "stdout",
     "output_type": "stream",
     "text": [
      "Draw\n",
      "Gen 1:   Here is a one paragraph instruction on how to approach a similar task without referencing the original context:\n",
      "\n",
      "To begin, it is important to fully understand the overall goal or objective that needs to be accomplished. Next, analyze any implicit or explicit requirements, constraints, or guidelines that could impact a solution\n",
      "Gen 2:   Here is a one paragraph response with a high-level game plan for a parallel situation without restating details from the provided context:\n",
      "\n",
      "To successfully complete the task at hand, one must first gain a broad perspective by considering all relevant factors, stakeholders, and constraints within the system. Next,\n",
      "----------\n"
     ]
    },
    {
     "name": "stderr",
     "output_type": "stream",
     "text": [
      "\r",
      " 52%|█████████████████                | 14/27 [00:54<00:55,  4.24s/it]"
     ]
    },
    {
     "name": "stdout",
     "output_type": "stream",
     "text": [
      "Draw\n",
      "Gen 1:   Here is a one sentence instruction on how to approach the task without referencing any specifics: Draw upon your analytical skills to understand the core of what is being asked, and respond by outlining a generalized multi-step process one could take to deal with a comparable situation respecting similar constraints.\n",
      "Gen 2:   Here is a one sentence instruction for the task without mentioning any context:\n",
      "\n",
      "Develop a strategic approach by carefully considering all relevant factors, stakeholders, constraints and alternatives to determine the best path forward.\n",
      "----------\n"
     ]
    },
    {
     "name": "stderr",
     "output_type": "stream",
     "text": [
      "\r",
      " 56%|██████████████████▎              | 15/27 [01:01<01:00,  5.01s/it]"
     ]
    },
    {
     "name": "stdout",
     "output_type": "stream",
     "text": [
      "Draw\n",
      "Gen 1:   Here is a step-by-step approach without referencing the specific context:\n",
      "\n",
      "First, carefully examine the task at hand to identify the overall goal or objective. Look for any constraints, requirements or conditions that must be met. \n",
      "\n",
      "Second, brainstorm potential strategies or methods that could be\n",
      "Gen 2:   Here is a one paragraph, high-level game plan for a parallel situation without restating provided details:\n",
      "\n",
      "To make progress on this challenge, the first step would be to gain a broad perspective by considering all relevant factors, both internal and external. Armed with that holistic view, important\n",
      "----------\n"
     ]
    },
    {
     "name": "stderr",
     "output_type": "stream",
     "text": [
      "\r",
      " 59%|███████████████████▌             | 16/27 [01:07<00:58,  5.29s/it]"
     ]
    },
    {
     "name": "stdout",
     "output_type": "stream",
     "text": [
      "Draw\n",
      "Gen 1:   Here is a one paragraph response with a high-level game plan without restating details from the provided context:\n",
      "\n",
      "To successfully complete the task at hand, one must first gain a broad perspective by considering all relevant factors, stakeholders and constraints within the system. Next, identify the underlying needs and\n",
      "Gen 2:   Here is a one paragraph instruction on how to solve the task without mentioning any content from the context:\n",
      "\n",
      "To successfully complete this type of task, one must first gain a high-level understanding of the overall situation by identifying the key elements, participants, and underlying issues. With the landscape in mind\n",
      "----------\n"
     ]
    },
    {
     "name": "stderr",
     "output_type": "stream",
     "text": [
      "\r",
      " 63%|████████████████████▊            | 17/27 [01:12<00:52,  5.23s/it]"
     ]
    },
    {
     "name": "stdout",
     "output_type": "stream",
     "text": [
      "Draw\n",
      "Gen 1:   Here is a one sentence instruction for the task without mentioning any context:\n",
      "\n",
      "Develop a strategic approach by carefully considering all relevant factors, stakeholders, constraints and alternatives to determine the best path forward.\n",
      "Gen 2:   Here is a suggested multi-step guide to addressing analogous issues at a general level without referencing the specific context provided:\n",
      "\n",
      "1. Analyze the core dynamics at play to understand the root of the problem or conflict. \n",
      "\n",
      "2. Consider different perspectives and potential solutions by thinking broadly and cre\n",
      "----------\n"
     ]
    },
    {
     "name": "stderr",
     "output_type": "stream",
     "text": [
      "\r",
      " 67%|██████████████████████           | 18/27 [01:16<00:43,  4.80s/it]"
     ]
    },
    {
     "name": "stdout",
     "output_type": "stream",
     "text": [
      "Draw\n",
      "Gen 1:   Here is a one paragraph, high-level game plan for a parallel situation without restating provided details:\n",
      "\n",
      "To make progress on this challenge, the first step would be to gain a broad perspective by considering all relevant factors, both internal and external. With the big picture in mind, identify\n",
      "Gen 2:   Here is a proposed step-by-step guide without referencing the original context:\n",
      "\n",
      "1. Define the Problem: Take time to fully understand the core issue or challenge at hand. Look at it from different perspectives to identify the root cause. \n",
      "\n",
      "2. Research Solutions: Survey what approaches\n",
      "----------\n"
     ]
    },
    {
     "name": "stderr",
     "output_type": "stream",
     "text": [
      "\r",
      " 70%|███████████████████████▏         | 19/27 [01:21<00:37,  4.71s/it]"
     ]
    },
    {
     "name": "stdout",
     "output_type": "stream",
     "text": [
      "Winner: Absorbing the question, context and output is crucial for developing a full understanding of the circumstances. With that foundation, craft an original high-level game plan for navigating a parallel situation in one concise paragraph, without restating details from the provided materials.\n",
      "Gen 1:   Here is a one paragraph instruction on how to solve an analogous task without referencing the original context:\n",
      "\n",
      "To successfully complete a complex undertaking, it is important to break the problem down into manageable steps. First, gain a holistic understanding of the overall goal or desired outcome. Then, analyze\n",
      "Gen 2:   Here is a one paragraph instruction on how to solve such a task without referencing any specifics:\n",
      "\n",
      "To develop an effective strategy, first gain a holistic understanding of the overall situation by identifying the core objectives and constraints. Then dissect the key factors at play to understand the fundamental issues and relationships\n",
      "----------\n"
     ]
    },
    {
     "name": "stderr",
     "output_type": "stream",
     "text": [
      "\r",
      " 74%|████████████████████████▍        | 20/27 [01:25<00:31,  4.49s/it]"
     ]
    },
    {
     "name": "stdout",
     "output_type": "stream",
     "text": [
      "Draw\n",
      "Gen 1:   Here is a suggested multi-step guide to address analogous issues at a general level without referencing the specific context:\n",
      "\n",
      "1. Analyze the core components and relationships and identify the overarching goal or desired outcome. \n",
      "\n",
      "2. Break the problem down into a logical sequence of discrete yet\n",
      "Gen 2:   Here is a one sentence strategy for tackling a comparable task without referencing the original context:\n",
      "\n",
      "Break down the core elements, identify the underlying connections between them, and develop a systematic approach that leverages those relationships to efficiently progress toward achieving the overall aim.\n",
      "----------\n"
     ]
    },
    {
     "name": "stderr",
     "output_type": "stream",
     "text": [
      "\r",
      " 78%|█████████████████████████▋       | 21/27 [01:28<00:25,  4.25s/it]"
     ]
    },
    {
     "name": "stdout",
     "output_type": "stream",
     "text": [
      "Draw\n",
      "Gen 1:   Here is a proposed step-by-step guide without referencing the original context:\n",
      "\n",
      "1. Clearly define the problem or goal. Ensure there is a shared understanding of what specifically needs to be addressed. \n",
      "\n",
      "2. Research precedents to understand how similar challenges have been approached in the past\n",
      "Gen 2:   Here is a proposed single-sentence strategy for tackling a comparable predicament:\n",
      "\n",
      "Methodically analyze the situation, envision potential approaches, test the most promising conceptually, refine as needed based on feedback, then implement the optimized solution.\n",
      "----------\n"
     ]
    },
    {
     "name": "stderr",
     "output_type": "stream",
     "text": [
      "\r",
      " 81%|██████████████████████████▉      | 22/27 [01:32<00:20,  4.07s/it]"
     ]
    },
    {
     "name": "stdout",
     "output_type": "stream",
     "text": [
      "Draw\n",
      "Gen 1:   Here is a one paragraph instruction on how to solve such a task without referencing any specifics:\n",
      "\n",
      "To develop an effective strategy, first gain a holistic understanding of the overall situation by considering all important factors, perspectives and desired outcomes. Then distill the key elements to identify the underlying issues and\n",
      "Gen 2:   Here is a one paragraph instruction on how to solve the given task without mentioning any content from the context:\n",
      "\n",
      "To successfully complete the objective, one must first gain a clear understanding of the overarching goal by analyzing the key details provided while avoiding direct references. With the purpose in mind, envision\n",
      "----------\n"
     ]
    },
    {
     "name": "stderr",
     "output_type": "stream",
     "text": [
      "\r",
      " 85%|████████████████████████████     | 23/27 [01:39<00:19,  4.94s/it]"
     ]
    },
    {
     "name": "stdout",
     "output_type": "stream",
     "text": [
      "Draw\n",
      "Gen 1:   Here is a one sentence strategy for tackling a comparable task without referencing the original context:\n",
      "\n",
      "Break down the core elements, identify the underlying connections between them, and develop a systematic approach that leverages those relationships to efficiently progress toward achieving the desired outcome.\n",
      "Gen 2:   Here is a one sentence instruction for the task without mentioning any content from the context:\n",
      "\n",
      "Develop an approach to address a comparable situation creatively through strategizing alternative perspectives and solutions.\n",
      "----------\n"
     ]
    },
    {
     "name": "stderr",
     "output_type": "stream",
     "text": [
      "\r",
      " 89%|█████████████████████████████▎   | 24/27 [01:43<00:13,  4.62s/it]"
     ]
    },
    {
     "name": "stdout",
     "output_type": "stream",
     "text": [
      "Draw\n",
      "Gen 1:   Here is a proposed single-sentence strategy for tackling a comparable predicament:\n",
      "\n",
      "Methodically analyze the situation, envision potential approaches, test the most promising conceptually, refine as needed based on feedback, then implement the optimized solution.\n",
      "Gen 2:   Here is a step-by-step instruction for how to approach the given task without referencing any specifics provided in the context:\n",
      "\n",
      "1. Carefully examine the task presented and ensure you have a clear understanding of what is being asked of you. Make note of any important details, parameters,\n",
      "----------\n"
     ]
    },
    {
     "name": "stderr",
     "output_type": "stream",
     "text": [
      "\r",
      " 93%|██████████████████████████████▌  | 25/27 [01:47<00:08,  4.44s/it]"
     ]
    },
    {
     "name": "stdout",
     "output_type": "stream",
     "text": [
      "Winner: Analyze the question, context and output carefully to grasp the essence of what is being requested. Building on that foundation, craft an abstract multi-paragraph playbook for managing a parallel scenario in an original manner, while avoiding duplication from the source materials.\n",
      "Gen 1:   Here is a one paragraph instruction on how to solve the given task without mentioning any content from the context:\n",
      "\n",
      "To successfully complete the objective, one must first gain a clear understanding of the overarching goal by analyzing the key details that define the scope without directly restating or replicating the\n",
      "Gen 2:   Here is a one paragraph instruction on how to approach a comparable task without referencing any specifics from the previous context:\n",
      "\n",
      "To undertake this type of task, one should first analyze the overall objective and any constraints presented. It is important to break the problem down into logical sub-steps that could be\n",
      "----------\n"
     ]
    },
    {
     "name": "stderr",
     "output_type": "stream",
     "text": [
      "\r",
      " 96%|███████████████████████████████▊ | 26/27 [01:51<00:04,  4.29s/it]"
     ]
    },
    {
     "name": "stdout",
     "output_type": "stream",
     "text": [
      "Draw\n",
      "Gen 1:   Here is a one sentence instruction for the task without mentioning any context:\n",
      "\n",
      "Develop an approach to address an analogous circumstance creatively through strategizing general principles rather than duplicating specific details.\n",
      "Gen 2:   Here is a one sentence instruction for how to approach a comparable task without referencing prior examples or context:\n",
      "\n",
      "Break down the problem into a series of logical steps, analyze each component, determine the relationship between parts, devise an approach, implement it, and evaluate the outcome.\n",
      "----------\n"
     ]
    },
    {
     "name": "stderr",
     "output_type": "stream",
     "text": [
      "\r",
      "100%|█████████████████████████████████| 27/27 [01:54<00:00,  4.13s/it]"
     ]
    },
    {
     "name": "stdout",
     "output_type": "stream",
     "text": [
      "Draw\n",
      "Gen 1:   Here is a step-by-step instruction for how to approach the given task without referencing any specifics provided in the context:\n",
      "\n",
      "1. Carefully examine the task presented and ensure you have a clear understanding of what is being asked of you. Make note of any important details, parameters,\n",
      "Gen 2:   Here is a step-by-step instruction for approaching a comparable task at a high conceptual level without reusing content from a provided prompt:\n",
      "\n",
      "1. Carefully analyze the goal or objective that needs to be achieved to identify the key elements involved. \n",
      "\n",
      "2. Break down the overall task\n",
      "----------\n"
     ]
    },
    {
     "name": "stderr",
     "output_type": "stream",
     "text": [
      "\r",
      "100%|█████████████████████████████████| 27/27 [01:59<00:00,  4.44s/it]"
     ]
    },
    {
     "name": "stdout",
     "output_type": "stream",
     "text": [
      "Winner: Analyze the question, context and output carefully to grasp the essence of what is being requested. Building on that foundation, craft an abstract multi-paragraph playbook for managing a parallel scenario in an original manner, while avoiding duplication from the source materials.\n"
     ]
    },
    {
     "name": "stderr",
     "output_type": "stream",
     "text": [
      "\n"
     ]
    },
    {
     "name": "stdout",
     "output_type": "stream",
     "text": [
      "9\n"
     ]
    },
    {
     "name": "stderr",
     "output_type": "stream",
     "text": [
      "\r",
      "  0%|                                          | 0/27 [00:00<?, ?it/s]"
     ]
    },
    {
     "name": "stdout",
     "output_type": "stream",
     "text": [
      "Gen 1:   Here is a one paragraph instruction on how to solve the task without mentioning any context:\n",
      "\n",
      "To solve this task, first examine the provided context closely to understand all relevant details and their relationships. Identify the key elements and factors involved according to the context. Then determine the logical steps required to connect\n",
      "Gen 2:   Here is a one paragraph instruction on how to solve the task without mentioning any content from the context:\n",
      "\n",
      "To complete the task, first examine the given information to understand what is being asked and identify the important details that are provided. Consider how these details relate to each other and what is implied but\n",
      "----------\n"
     ]
    },
    {
     "name": "stderr",
     "output_type": "stream",
     "text": [
      "\r",
      "  7%|██▌                               | 2/27 [00:04<00:56,  2.26s/it]"
     ]
    },
    {
     "name": "stdout",
     "output_type": "stream",
     "text": [
      "Draw\n",
      "Gen 1:   Here is an instruction on how to solve the task in one sentence without mentioning any context:\n",
      "\n",
      "Determine the best response by carefully considering the relationships between the different elements referenced.\n",
      "Gen 2:   Here is a one sentence instruction for the task without mentioning any context:\n",
      "\n",
      "Draw logical connections between the relevant elements identified in the provided information to synthesize an appropriate response.\n",
      "----------\n"
     ]
    },
    {
     "name": "stderr",
     "output_type": "stream",
     "text": [
      "\r",
      " 11%|███▊                              | 3/27 [00:07<01:04,  2.68s/it]"
     ]
    },
    {
     "name": "stdout",
     "output_type": "stream",
     "text": [
      "Draw\n",
      "Gen 1:   Here is a step-by-step instruction on how to solve the task without mentioning any context:\n",
      "\n",
      "1. Carefully examine the provided background information to understand the overall scenario, key entities, and important details. \n",
      "\n",
      "2. Identify the specific goal or objective that needs to be achieved\n",
      "Gen 2:   Here is a step-by-step instruction for the task without mentioning any content from the provided context:\n",
      "\n",
      "1. Identify the overall goal or objective that needs to be accomplished based on the information given. \n",
      "\n",
      "2. Break down the goal into a series of individual steps or actions that\n",
      "----------\n"
     ]
    },
    {
     "name": "stderr",
     "output_type": "stream",
     "text": [
      "\r",
      " 15%|█████                             | 4/27 [00:11<01:07,  2.95s/it]"
     ]
    },
    {
     "name": "stdout",
     "output_type": "stream",
     "text": [
      "Draw\n",
      "Gen 1:   Here is a one paragraph instruction on how to solve the task without mentioning any content from the context:\n",
      "\n",
      "To complete the task, first examine the given information to understand what is being asked and identify the important details that are provided. Consider how these details relate to each other and what is implied but\n",
      "Gen 2:   Here is a one paragraph instruction on how to solve the task without mentioning any content from the context:\n",
      "\n",
      "To complete the task, break it down into discrete steps. First, carefully analyze what the final goal or desired outcome is. Then, think through the logical progression of actions required to arrive at\n",
      "----------\n"
     ]
    },
    {
     "name": "stderr",
     "output_type": "stream",
     "text": [
      "\r",
      " 19%|██████▎                           | 5/27 [00:16<01:23,  3.80s/it]"
     ]
    },
    {
     "name": "stdout",
     "output_type": "stream",
     "text": [
      "Winner: Examine the question and accompanying context. Note important details, relationships, and implications described in the context that could aid in responding to the question. Then craft an original answer by strategically combining applicable insights from the context through your own rational thinking and inference.\n",
      "Gen 1:   Here is a one sentence instruction for the task without mentioning any context:\n",
      "\n",
      "Draw logical connections between the relevant elements identified in the provided information to synthesize an appropriate response.\n",
      "Gen 2:   Here is a one sentence instruction for the task without mentioning any context:\n",
      "\n",
      "\"Follow the steps necessary to accurately complete the objective.\"\n",
      "----------\n"
     ]
    },
    {
     "name": "stderr",
     "output_type": "stream",
     "text": [
      "\r",
      " 22%|███████▌                          | 6/27 [00:19<01:11,  3.38s/it]"
     ]
    },
    {
     "name": "stdout",
     "output_type": "stream",
     "text": [
      "Draw\n",
      "Gen 1:   Here is a step-by-step instruction for the task without mentioning any content from the provided context:\n",
      "\n",
      "1. Identify the overall goal or objective that needs to be accomplished based on the information given.\n",
      "\n",
      "2. Break down the goal into a series of individual steps or actions that\n",
      "Gen 2:   Here is a step-by-step instruction for the task without mentioning any context:\n",
      "\n",
      "1. Carefully read the full details provided for the task and identify all relevant information such as requirements, constraints, inputs, and expected outputs.\n",
      "\n",
      "2. Break down the task into specific steps or\n",
      "----------\n"
     ]
    },
    {
     "name": "stderr",
     "output_type": "stream",
     "text": [
      "\r",
      " 26%|████████▊                         | 7/27 [00:23<01:16,  3.81s/it]"
     ]
    },
    {
     "name": "stdout",
     "output_type": "stream",
     "text": [
      "Winner: Analyze the question and context provided. Identify the key elements in the context that are relevant to answering the question. Then synthesize an appropriate response by making logical connections between these elements, without restating any exact words or details from the context.\n",
      "Gen 1:   Here is a one paragraph instruction on how to solve the task without mentioning any content from the context:\n",
      "\n",
      "To complete the task, break it down into discrete steps. First, carefully analyze what the final goal or desired outcome is. Then, think through the logical progression of actions required to arrive at\n",
      "Gen 2:   Here is a one paragraph instruction on how to solve the task without mentioning any content from the context:\n",
      "\n",
      "Carefully review all available information and details provided about the scenario. Look for connections between different elements and try to understand the complete circumstances described. Form a logical chain of events and relationships by pie\n",
      "----------\n"
     ]
    },
    {
     "name": "stderr",
     "output_type": "stream",
     "text": [
      "\r",
      " 30%|██████████                        | 8/27 [00:27<01:12,  3.84s/it]"
     ]
    },
    {
     "name": "stdout",
     "output_type": "stream",
     "text": [
      "Draw\n",
      "Gen 1:   Here is a one sentence instruction for the task without mentioning any context:\n",
      "\n",
      "\"Follow the steps necessary to accurately complete the objective.\"\n",
      "Gen 2:   Here is a one sentence instruction on how to solve the task without mentioning any content from the context: Think through the details and their relationships to determine the most reasonable outcome, then concisely explain your conclusion.\n",
      "----------\n"
     ]
    },
    {
     "name": "stderr",
     "output_type": "stream",
     "text": [
      "\r",
      " 33%|███████████▎                      | 9/27 [00:31<01:05,  3.66s/it]"
     ]
    },
    {
     "name": "stdout",
     "output_type": "stream",
     "text": [
      "Draw\n",
      "Gen 1:   Here is a step-by-step instruction for the task without mentioning any context:\n",
      "\n",
      "1. Carefully read the full details provided for the task and identify all relevant information such as requirements, constraints, inputs, and expected outputs.\n",
      "\n",
      "2. Break down the task into specific steps or\n",
      "Gen 2:   Here is a step-by-step instruction on how to solve the task without mentioning any content from the context:\n",
      "\n",
      "1. Carefully read and understand the full details provided in the context. Make sure to comprehend how all elements are related.\n",
      "\n",
      "2. Mentally organize the information\n",
      "----------\n"
     ]
    },
    {
     "name": "stderr",
     "output_type": "stream",
     "text": [
      "\r",
      " 37%|████████████▏                    | 10/27 [00:35<01:05,  3.84s/it]"
     ]
    },
    {
     "name": "stdout",
     "output_type": "stream",
     "text": [
      "Draw\n",
      "Gen 1:   Here is a one paragraph instruction on how to solve the task without mentioning any content from the context:\n",
      "\n",
      "Carefully review all available information and details provided about the scenario. Look for connections between different elements and try to understand the complete circumstances described. Form a logical chain of events and relationships by pie\n",
      "Gen 2:   Here is a one paragraph instruction on how to solve the task without mentioning any content:\n",
      "\n",
      "Carefully examine all available information and note key details, relationships, and implications. Consider different perspectives and how various elements interact. Draw upon reasoning and logical thinking to deduce conclusions from what is known rather than stating\n",
      "----------\n"
     ]
    },
    {
     "name": "stderr",
     "output_type": "stream",
     "text": [
      "\r",
      " 41%|█████████████▍                   | 11/27 [00:41<01:11,  4.49s/it]"
     ]
    },
    {
     "name": "stdout",
     "output_type": "stream",
     "text": [
      "Draw\n",
      "Gen 1:   Here is a one sentence instruction on how to solve the task without mentioning any content from the context: Think through the details and their relationships to determine the most reasonable outcome, then concisely describe the conclusion you reached in your own words.\n",
      "Gen 2:   Here is a one sentence instruction on how to solve the task without mentioning any context:\n",
      "\n",
      "Consider all individual factors and their relationships, then deduce and articulate an original conclusion based on cognitive analysis of the full circumstances.\n",
      "----------\n"
     ]
    },
    {
     "name": "stderr",
     "output_type": "stream",
     "text": [
      "\r",
      " 44%|██████████████▋                  | 12/27 [00:45<01:07,  4.48s/it]"
     ]
    },
    {
     "name": "stdout",
     "output_type": "stream",
     "text": [
      "Draw\n",
      "Gen 1:   Here is a step-by-step instruction on how to solve the task without mentioning any content from the context:\n",
      "\n",
      "1. Carefully read and understand the full details provided in the context. Make sure to comprehend how all elements are related.\n",
      "\n",
      "2. Mentally organize the information\n",
      "Gen 2:   Here is a step-by-step instruction on how to solve the given task without mentioning any content in the context:\n",
      "\n",
      "1. Carefully read the full context presented to gain a thorough understanding of the circumstances. \n",
      "\n",
      "2. Note any details or aspects within the situation that are highlighted as\n",
      "----------\n"
     ]
    },
    {
     "name": "stderr",
     "output_type": "stream",
     "text": [
      "\r",
      " 48%|███████████████▉                 | 13/27 [00:51<01:07,  4.80s/it]"
     ]
    },
    {
     "name": "stdout",
     "output_type": "stream",
     "text": [
      "Draw\n",
      "Gen 1:   Here is a one paragraph instruction on how to solve the task without mentioning any content:\n",
      "\n",
      "Carefully examine all available information and note key details that are provided. Look for relationships between different elements that are indicated or can be inferred based on contextual clues. Try to understand the overall situation by considering how\n",
      "Gen 2:   Here is a one paragraph instruction on how to solve the task without mentioning any content from the context:\n",
      "\n",
      "To successfully complete the task, one must first carefully examine the available information and identify the key components that need to be addressed without directly repeating or alluding to specifics provided. Next, logically organize\n",
      "----------\n"
     ]
    },
    {
     "name": "stderr",
     "output_type": "stream",
     "text": [
      "\r",
      " 52%|█████████████████                | 14/27 [00:56<01:02,  4.82s/it]"
     ]
    },
    {
     "name": "stdout",
     "output_type": "stream",
     "text": [
      "Draw\n",
      "Gen 1:   Here is a one sentence instruction on how to solve the task without mentioning any context:\n",
      "\n",
      "Consider all factors and their relationships, then deduce and articulate an original response based solely on cognitive analysis of the full circumstances.\n",
      "Gen 2:   Here is a one sentence instruction for the task without mentioning any context:\n",
      "\n",
      "Break down the task into clear steps, link the steps together concisely in a single sentence using proper grammar and punctuation, and avoid direct references to ensure the meaning is derived solely from the structure of the response.\n",
      "----------\n"
     ]
    },
    {
     "name": "stderr",
     "output_type": "stream",
     "text": [
      "\r",
      " 56%|██████████████████▎              | 15/27 [01:00<00:57,  4.81s/it]"
     ]
    },
    {
     "name": "stdout",
     "output_type": "stream",
     "text": [
      "Draw\n",
      "Gen 1:   Here is a step-by-step instruction on how to solve the given task without mentioning any content in the context:\n",
      "\n",
      "1. Carefully read the full context presented to gain a thorough understanding of the circumstances.\n",
      "\n",
      "2. Note down any significant details, people, locations, objects,\n",
      "Gen 2:   Here is a step-by-step instruction for the task without mentioning any context:\n",
      "\n",
      "1. Carefully examine the given task to understand what is being asked and the overall goal or objective. Look for any clues on the types of steps or actions that may be involved.\n",
      "\n",
      "2.\n",
      "----------\n"
     ]
    },
    {
     "name": "stderr",
     "output_type": "stream",
     "text": [
      "\r",
      " 59%|███████████████████▌             | 16/27 [01:05<00:52,  4.75s/it]"
     ]
    },
    {
     "name": "stdout",
     "output_type": "stream",
     "text": [
      "Draw\n",
      "Gen 1:   Here is a one paragraph instruction on how to solve the task without mentioning any content from the context:\n",
      "\n",
      "To successfully complete the task at hand, one must first carefully examine all available information and details provided, no matter how trivial they may seem. It is important to understand the full scope of the\n",
      "Gen 2:   Here is a one paragraph instruction on how to solve the task without mentioning any content:\n",
      "\n",
      "Carefully analyze the relationships between all factors involved to understand the full situation. Identify the key elements at play and how they interact with one another based on the implicit connections provided. Determine the most reasonable outcome\n",
      "----------\n"
     ]
    },
    {
     "name": "stderr",
     "output_type": "stream",
     "text": [
      "\r",
      " 63%|████████████████████▊            | 17/27 [01:09<00:46,  4.63s/it]"
     ]
    },
    {
     "name": "stdout",
     "output_type": "stream",
     "text": [
      "Winner: Analyze both the question and context objectively to develop a deep understanding of the underlying issue. Then formulate a response by assembling a well-reasoned argument relying only on the implications and inferences that can be extracted from contextual details, excluding any direct reproduction.\n",
      "Gen 1:   Here is a one sentence instruction for the task without mentioning any context:\n",
      "\n",
      "Break down the task into clear steps, link the steps concisely in order, and express it as a single command statement.\n",
      "Gen 2:   Here is a one sentence instruction on how to solve the task without mentioning any content:\n",
      "\n",
      "\"Consider all available information, infer the relationships between relevant elements indicated, and suggest a reasonable outcome deduced solely through implications intrinsic to the complete situation.\"\n",
      "----------\n"
     ]
    },
    {
     "name": "stderr",
     "output_type": "stream",
     "text": [
      "\r",
      " 67%|██████████████████████           | 18/27 [01:13<00:38,  4.27s/it]"
     ]
    },
    {
     "name": "stdout",
     "output_type": "stream",
     "text": [
      "Draw\n",
      "Gen 1:   Here is a step-by-step instruction for the task without mentioning any context:\n",
      "\n",
      "1. Closely examine the given task to understand what is being asked and the expected outcome. \n",
      "\n",
      "2. Break down the task into discrete steps or actions required to complete it from start to finish.\n",
      "Gen 2:   Here is a step-by-step instruction on how to solve the given task without mentioning any content:\n",
      "\n",
      "1. Carefully analyze the overall scenario presented to understand all relevant aspects and their logical relationships. \n",
      "\n",
      "2. Identify the key elements and factors involved based on implications derived from their\n",
      "----------\n"
     ]
    },
    {
     "name": "stderr",
     "output_type": "stream",
     "text": [
      "\r",
      " 70%|███████████████████████▏         | 19/27 [01:17<00:35,  4.38s/it]"
     ]
    },
    {
     "name": "stdout",
     "output_type": "stream",
     "text": [
      "Draw\n",
      "Gen 1:   Here is a one paragraph instruction on how to solve the task without mentioning any content:\n",
      "\n",
      "Carefully analyze the situation presented to understand all relevant factors at play and their relationships. Identify the overarching purpose or goal indicated. From there, envision the step-by-step progression of logical\n",
      "Gen 2:   Here is a one paragraph instruction on how to solve the task without mentioning any content:\n",
      "\n",
      "Carefully analyze the given situation and any relevant details that may provide insight into a solution. Consider both immediate and extended effects of handling the task in different ways. Draw from past experiences and acquired knowledge to identify\n",
      "----------\n"
     ]
    },
    {
     "name": "stderr",
     "output_type": "stream",
     "text": [
      "\r",
      " 74%|████████████████████████▍        | 20/27 [01:22<00:30,  4.34s/it]"
     ]
    },
    {
     "name": "stdout",
     "output_type": "stream",
     "text": [
      "Winner: Objectively internalize all information specified in the question as well as contextual background. Next, tap into your ability to think critically and draw rational connections between implications. Respond by communicating an original conclusion supported by inferences made rather than restating provided elements.\n",
      "Gen 1:   Here is a one sentence instruction on how to solve the task without mentioning any content:\n",
      "\n",
      "\"Consider all available information, infer the relationships between elements indicated, and derive a sensible course of action warranted by implications intrinsic to the complete situation.\"\n",
      "Gen 2:   Here is a one sentence instruction on how to solve the task without mentioning any content:\n",
      "\n",
      "Methodically analyze all available inputs and independently derive a solution by making logical deductions.\n",
      "----------\n"
     ]
    },
    {
     "name": "stderr",
     "output_type": "stream",
     "text": [
      "\r",
      " 78%|█████████████████████████▋       | 21/27 [01:25<00:24,  4.15s/it]"
     ]
    },
    {
     "name": "stdout",
     "output_type": "stream",
     "text": [
      "Draw\n",
      "Gen 1:   Here is a step-by-step instruction on how to solve the given task without mentioning any content in the context:\n",
      "\n",
      "1. Carefully analyze the overall scenario described to understand all relevant aspects of the situation. \n",
      "\n",
      "2. Mentally connect related details provided to comprehend the full circumstances\n",
      "Gen 2:   Here is a step-by-step instruction on how to solve the given task without mentioning any context:\n",
      "\n",
      "1. Carefully read and analyze the task presented to ensure full comprehension of what is being asked.\n",
      "\n",
      "2. Break down the task into a series of logical steps or actions required\n",
      "----------\n"
     ]
    },
    {
     "name": "stderr",
     "output_type": "stream",
     "text": [
      "\r",
      " 81%|██████████████████████████▉      | 22/27 [01:29<00:20,  4.13s/it]"
     ]
    },
    {
     "name": "stdout",
     "output_type": "stream",
     "text": [
      "Draw\n",
      "Gen 1:   Here is a one paragraph instruction on how to solve the task without mentioning any content:\n",
      "\n",
      "Carefully analyze the given situation and any relevant details that may provide insight into a solution. Consider both immediate and extended effects of handling the task in different ways. Draw from past experiences and acquired knowledge to identify\n",
      "Gen 2:   Here is a one paragraph instruction on how to solve the task without mentioning any content:\n",
      "\n",
      "Carefully read the task presented and identify the key elements that need to be addressed. Look for any relationships between different components and how they interact. Draw from your own knowledge and experience to brainstorm potential approaches\n",
      "----------\n"
     ]
    },
    {
     "name": "stderr",
     "output_type": "stream",
     "text": [
      "\r",
      " 85%|████████████████████████████     | 23/27 [01:34<00:17,  4.40s/it]"
     ]
    },
    {
     "name": "stdout",
     "output_type": "stream",
     "text": [
      "Draw\n",
      "Gen 1:   Here is a one sentence instruction on how to solve the task without mentioning any content:\n",
      "\n",
      "Methodically analyze all available inputs and independently derive a solution by making logical deductions.\n",
      "Gen 2:   Here is a one sentence instruction on how to solve the task without mentioning any context:\n",
      "\n",
      "\"Methodically consider each component and their interrelations, independently determine the implications of all factors combined through your own reasoning, and form a conclusion.\"\n",
      "----------\n"
     ]
    },
    {
     "name": "stderr",
     "output_type": "stream",
     "text": [
      "\r",
      " 89%|█████████████████████████████▎   | 24/27 [01:38<00:12,  4.10s/it]"
     ]
    },
    {
     "name": "stdout",
     "output_type": "stream",
     "text": [
      "Draw\n",
      "Gen 1:   Here is a step-by-step instruction on how to solve the given task without mentioning any context:\n",
      "\n",
      "1. Carefully read and analyze the task presented to ensure full comprehension of what is being asked.\n",
      "\n",
      "2. Break down the task into a series of logical steps or phases of\n",
      "Gen 2:   Here is a step-by-step instruction on how to solve the task without mentioning any content:\n",
      "\n",
      "1. Read the task carefully to understand what is being asked. Make sure to understand each component and element involved.\n",
      "\n",
      "2. Break down the task into individual steps or components that need\n",
      "----------\n"
     ]
    },
    {
     "name": "stderr",
     "output_type": "stream",
     "text": [
      "\r",
      " 93%|██████████████████████████████▌  | 25/27 [01:41<00:07,  3.92s/it]"
     ]
    },
    {
     "name": "stdout",
     "output_type": "stream",
     "text": [
      "Winner: Objectively internalize all information specified in the question as well as contextual background. Next, tap into your ability to think critically and draw rational connections between implications. Respond by communicating an original conclusion supported by inferences made rather than restating provided elements.\n",
      "Gen 1:   Here is a one paragraph instruction on how to solve the task without mentioning any content:\n",
      "\n",
      "Carefully read the full details provided and analyze each component and relationship presented. Seek to understand how each element connects or influences others based on the overall framework. Once all relevant parts are considered individually and together\n",
      "Gen 2:   Here is a one paragraph instruction on how to solve the task without mentioning any content:\n",
      "\n",
      "Carefully read the full details provided and identify the key pieces of information that need to be addressed. Look for any cues on the expected format or goal of the solution. Consider how the various elements may relate\n",
      "----------\n"
     ]
    },
    {
     "name": "stderr",
     "output_type": "stream",
     "text": [
      "\r",
      " 96%|███████████████████████████████▊ | 26/27 [01:47<00:04,  4.50s/it]"
     ]
    },
    {
     "name": "stdout",
     "output_type": "stream",
     "text": [
      "Draw\n",
      "Gen 1:   Here is a one sentence instruction on how to solve the task without mentioning any context:\n",
      "\n",
      "\"Methodically consider each component and their interrelations, independently determine the implications of all factors combined through self-guided reasoning alone, then concisely communicate the process.\"\n",
      "Gen 2:   Here is a one sentence instruction for the task without mentioning any context:\n",
      "\n",
      "\"Examine the given situation, deduce the most relevant connections and provide an original solution.\"\n",
      "----------\n"
     ]
    },
    {
     "name": "stderr",
     "output_type": "stream",
     "text": [
      "\r",
      "100%|█████████████████████████████████| 27/27 [01:51<00:00,  4.18s/it]"
     ]
    },
    {
     "name": "stdout",
     "output_type": "stream",
     "text": [
      "Draw\n",
      "Gen 1:   Here is a step-by-step instruction on how to solve the given task without mentioning any content in the context:\n",
      "\n",
      "1. Read the task carefully to understand what is being asked.\n",
      "\n",
      "2. Identify the key pieces of information provided such as any rules, constraints, or goals\n",
      "Gen 2:   Here is a step-by-step instruction on how to solve the given task without mentioning any content from the context:\n",
      "\n",
      "1. Read the full details provided in the task carefully to understand what is being asked. \n",
      "\n",
      "2. Break down the task into smaller and more manageable steps.\n",
      "----------\n"
     ]
    },
    {
     "name": "stderr",
     "output_type": "stream",
     "text": [
      "\r",
      "100%|█████████████████████████████████| 27/27 [01:54<00:00,  4.24s/it]"
     ]
    },
    {
     "name": "stdout",
     "output_type": "stream",
     "text": [
      "Draw\n"
     ]
    },
    {
     "name": "stderr",
     "output_type": "stream",
     "text": [
      "\n"
     ]
    }
   ],
   "source": [
    "run_autoprompts(True)"
   ]
  },
  {
   "cell_type": "markdown",
   "metadata": {},
   "source": [
    "Below is the output of the best three instructions for each question in the Tealium dataset. "
   ]
  },
  {
   "cell_type": "code",
   "execution_count": 8,
   "metadata": {},
   "outputs": [],
   "source": [
    "new_prompts = pd.read_csv('../data/new_prompts.csv')"
   ]
  },
  {
   "cell_type": "code",
   "execution_count": 9,
   "metadata": {},
   "outputs": [
    {
     "data": {
      "text/html": [
       "<div>\n",
       "<style scoped>\n",
       "    .dataframe tbody tr th:only-of-type {\n",
       "        vertical-align: middle;\n",
       "    }\n",
       "\n",
       "    .dataframe tbody tr th {\n",
       "        vertical-align: top;\n",
       "    }\n",
       "\n",
       "    .dataframe thead th {\n",
       "        text-align: right;\n",
       "    }\n",
       "</style>\n",
       "<table border=\"1\" class=\"dataframe\">\n",
       "  <thead>\n",
       "    <tr style=\"text-align: right;\">\n",
       "      <th></th>\n",
       "      <th>question</th>\n",
       "      <th>contexts</th>\n",
       "      <th>answer</th>\n",
       "      <th>ground_truths</th>\n",
       "      <th>context_recall</th>\n",
       "      <th>context_precision</th>\n",
       "      <th>answer_relevancy</th>\n",
       "      <th>faithfulness</th>\n",
       "      <th>answer_similarity</th>\n",
       "      <th>answer_correctness</th>\n",
       "      <th>best_prompt</th>\n",
       "      <th>second_best_prompt</th>\n",
       "      <th>third_best_prompt</th>\n",
       "    </tr>\n",
       "  </thead>\n",
       "  <tbody>\n",
       "    <tr>\n",
       "      <th>0</th>\n",
       "      <td>How to deposit a cheque issued to an associate...</td>\n",
       "      <td>['Just have the associate sign the back and th...</td>\n",
       "      <td>\\nThe best way to deposit a cheque issued to a...</td>\n",
       "      <td>[\"Have the check reissued to the proper payee....</td>\n",
       "      <td>0.666667</td>\n",
       "      <td>0.0</td>\n",
       "      <td>0.930311</td>\n",
       "      <td>1.000000</td>\n",
       "      <td>0.524963</td>\n",
       "      <td>0.429148</td>\n",
       "      <td>Carefully analyze both the question and contex...</td>\n",
       "      <td>Thoroughly analyze the question and context in...</td>\n",
       "      <td>Study the question and provided context carefu...</td>\n",
       "    </tr>\n",
       "    <tr>\n",
       "      <th>1</th>\n",
       "      <td>1 EIN doing business under multiple business n...</td>\n",
       "      <td>['You\\'re confusing a lot of things here. Comp...</td>\n",
       "      <td>\\nYes, it is possible to have one EIN doing bu...</td>\n",
       "      <td>[\"You're confusing a lot of things here. Compa...</td>\n",
       "      <td>0.714286</td>\n",
       "      <td>0.0</td>\n",
       "      <td>0.874973</td>\n",
       "      <td>1.000000</td>\n",
       "      <td>0.353534</td>\n",
       "      <td>0.476767</td>\n",
       "      <td>Focus on understanding the core problem descri...</td>\n",
       "      <td>Objectively consider the question and context,...</td>\n",
       "      <td>Analyze the inputs to identify the key details...</td>\n",
       "    </tr>\n",
       "    <tr>\n",
       "      <th>2</th>\n",
       "      <td>Applying for and receiving business credit</td>\n",
       "      <td>['Set up a meeting with the bank that handles ...</td>\n",
       "      <td>\\nApplying for and receiving business credit c...</td>\n",
       "      <td>['\"I\\'m afraid the great myth of limited liabi...</td>\n",
       "      <td>1.000000</td>\n",
       "      <td>0.0</td>\n",
       "      <td>0.648423</td>\n",
       "      <td>0.909091</td>\n",
       "      <td>0.772560</td>\n",
       "      <td>0.886280</td>\n",
       "      <td>Analyze the question, context and output caref...</td>\n",
       "      <td>Absorbing the question, context and output is ...</td>\n",
       "      <td>Study the question, context and output thoroug...</td>\n",
       "    </tr>\n",
       "    <tr>\n",
       "      <th>3</th>\n",
       "      <td>401k Transfer After Business Closure</td>\n",
       "      <td>['The time horizon for your 401K/IRA is essent...</td>\n",
       "      <td>\\nIf your employer has closed and you need to ...</td>\n",
       "      <td>[\"You should probably consult an attorney. How...</td>\n",
       "      <td>0.000000</td>\n",
       "      <td>0.0</td>\n",
       "      <td>0.804983</td>\n",
       "      <td>1.000000</td>\n",
       "      <td>0.646157</td>\n",
       "      <td>0.323079</td>\n",
       "      <td>Objectively internalize all information specif...</td>\n",
       "      <td>Analyze both the question and context objectiv...</td>\n",
       "      <td>Analyze the question and context provided. Ide...</td>\n",
       "    </tr>\n",
       "  </tbody>\n",
       "</table>\n",
       "</div>"
      ],
      "text/plain": [
       "                                            question  \\\n",
       "0  How to deposit a cheque issued to an associate...   \n",
       "1  1 EIN doing business under multiple business n...   \n",
       "2         Applying for and receiving business credit   \n",
       "3               401k Transfer After Business Closure   \n",
       "\n",
       "                                            contexts  \\\n",
       "0  ['Just have the associate sign the back and th...   \n",
       "1  ['You\\'re confusing a lot of things here. Comp...   \n",
       "2  ['Set up a meeting with the bank that handles ...   \n",
       "3  ['The time horizon for your 401K/IRA is essent...   \n",
       "\n",
       "                                              answer  \\\n",
       "0  \\nThe best way to deposit a cheque issued to a...   \n",
       "1  \\nYes, it is possible to have one EIN doing bu...   \n",
       "2  \\nApplying for and receiving business credit c...   \n",
       "3  \\nIf your employer has closed and you need to ...   \n",
       "\n",
       "                                       ground_truths  context_recall  \\\n",
       "0  [\"Have the check reissued to the proper payee....        0.666667   \n",
       "1  [\"You're confusing a lot of things here. Compa...        0.714286   \n",
       "2  ['\"I\\'m afraid the great myth of limited liabi...        1.000000   \n",
       "3  [\"You should probably consult an attorney. How...        0.000000   \n",
       "\n",
       "   context_precision  answer_relevancy  faithfulness  answer_similarity  \\\n",
       "0                0.0          0.930311      1.000000           0.524963   \n",
       "1                0.0          0.874973      1.000000           0.353534   \n",
       "2                0.0          0.648423      0.909091           0.772560   \n",
       "3                0.0          0.804983      1.000000           0.646157   \n",
       "\n",
       "   answer_correctness                                        best_prompt  \\\n",
       "0            0.429148  Carefully analyze both the question and contex...   \n",
       "1            0.476767  Focus on understanding the core problem descri...   \n",
       "2            0.886280  Analyze the question, context and output caref...   \n",
       "3            0.323079  Objectively internalize all information specif...   \n",
       "\n",
       "                                  second_best_prompt  \\\n",
       "0  Thoroughly analyze the question and context in...   \n",
       "1  Objectively consider the question and context,...   \n",
       "2  Absorbing the question, context and output is ...   \n",
       "3  Analyze both the question and context objectiv...   \n",
       "\n",
       "                                   third_best_prompt  \n",
       "0  Study the question and provided context carefu...  \n",
       "1  Analyze the inputs to identify the key details...  \n",
       "2  Study the question, context and output thoroug...  \n",
       "3  Analyze the question and context provided. Ide...  "
      ]
     },
     "execution_count": 9,
     "metadata": {},
     "output_type": "execute_result"
    }
   ],
   "source": [
    "new_prompts.head()"
   ]
  },
  {
   "cell_type": "markdown",
   "metadata": {},
   "source": [
    "Below are the prompts/instructions mapped to ids. "
   ]
  },
  {
   "cell_type": "code",
   "execution_count": 10,
   "metadata": {},
   "outputs": [],
   "source": [
    "prompt_ids = pd.read_csv('../data/prompt_ids.csv')"
   ]
  },
  {
   "cell_type": "code",
   "execution_count": 11,
   "metadata": {},
   "outputs": [
    {
     "data": {
      "text/html": [
       "<div>\n",
       "<style scoped>\n",
       "    .dataframe tbody tr th:only-of-type {\n",
       "        vertical-align: middle;\n",
       "    }\n",
       "\n",
       "    .dataframe tbody tr th {\n",
       "        vertical-align: top;\n",
       "    }\n",
       "\n",
       "    .dataframe thead th {\n",
       "        text-align: right;\n",
       "    }\n",
       "</style>\n",
       "<table border=\"1\" class=\"dataframe\">\n",
       "  <thead>\n",
       "    <tr style=\"text-align: right;\">\n",
       "      <th></th>\n",
       "      <th>Prompts</th>\n",
       "      <th>Prompt_Ids</th>\n",
       "    </tr>\n",
       "  </thead>\n",
       "  <tbody>\n",
       "    <tr>\n",
       "      <th>0</th>\n",
       "      <td>Carefully analyze both the question and contex...</td>\n",
       "      <td>0</td>\n",
       "    </tr>\n",
       "    <tr>\n",
       "      <th>1</th>\n",
       "      <td>Focus on understanding the core problem descri...</td>\n",
       "      <td>1</td>\n",
       "    </tr>\n",
       "    <tr>\n",
       "      <th>2</th>\n",
       "      <td>Analyze the question, context and output caref...</td>\n",
       "      <td>2</td>\n",
       "    </tr>\n",
       "    <tr>\n",
       "      <th>3</th>\n",
       "      <td>Objectively internalize all information specif...</td>\n",
       "      <td>3</td>\n",
       "    </tr>\n",
       "    <tr>\n",
       "      <th>4</th>\n",
       "      <td>Thoroughly analyze the question and context in...</td>\n",
       "      <td>4</td>\n",
       "    </tr>\n",
       "  </tbody>\n",
       "</table>\n",
       "</div>"
      ],
      "text/plain": [
       "                                             Prompts  Prompt_Ids\n",
       "0  Carefully analyze both the question and contex...           0\n",
       "1  Focus on understanding the core problem descri...           1\n",
       "2  Analyze the question, context and output caref...           2\n",
       "3  Objectively internalize all information specif...           3\n",
       "4  Thoroughly analyze the question and context in...           4"
      ]
     },
     "execution_count": 11,
     "metadata": {},
     "output_type": "execute_result"
    }
   ],
   "source": [
    "prompt_ids.head()"
   ]
  }
 ],
 "metadata": {
  "colab": {
   "authorship_tag": "ABX9TyPMYK+Pn5QaRzPmh3T5a9ca",
   "include_colab_link": true,
   "provenance": []
  },
  "kernelspec": {
   "display_name": "conda_python3",
   "language": "python",
   "name": "conda_python3"
  },
  "language_info": {
   "codemirror_mode": {
    "name": "ipython",
    "version": 3
   },
   "file_extension": ".py",
   "mimetype": "text/x-python",
   "name": "python",
   "nbconvert_exporter": "python",
   "pygments_lexer": "ipython3",
   "version": "3.10.13"
  }
 },
 "nbformat": 4,
 "nbformat_minor": 4
}
